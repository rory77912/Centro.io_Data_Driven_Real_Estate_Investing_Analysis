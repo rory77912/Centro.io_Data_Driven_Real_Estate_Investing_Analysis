{
 "cells": [
  {
   "cell_type": "code",
   "execution_count": 128,
   "metadata": {},
   "outputs": [],
   "source": [
    "import pandas as pd \n",
    "import numpy as np\n",
    "import matplotlib.pyplot as plt\n",
    "import seaborn as sns \n",
    "import squarify"
   ]
  },
  {
   "cell_type": "code",
   "execution_count": 3,
   "metadata": {},
   "outputs": [],
   "source": [
    "property = pd.read_excel('Property.xlsx')"
   ]
  },
  {
   "cell_type": "code",
   "execution_count": 6,
   "metadata": {},
   "outputs": [
    {
     "data": {
      "text/plain": [
       "Index(['Row', 'PropID', 'Property Address', 'Property Name', 'Star Rating',\n",
       "       'Energy Star', 'LEED Certified', 'Building Status', 'Secondary Type',\n",
       "       'Market Name',\n",
       "       ...\n",
       "       '2024 Pop Age 75-79(1m)', '2024 Pop Age 80-84(1m)',\n",
       "       '2024 Pop Age 85+(1m)', 'Situs_Num', 'Situs_Num_Remainder', 'SITUS_DIR',\n",
       "       'SITUS_NAM', 'SCP', 'SCSitus_NumNam', 'SCAPN'],\n",
       "      dtype='object', length=212)"
      ]
     },
     "execution_count": 6,
     "metadata": {},
     "output_type": "execute_result"
    }
   ],
   "source": [
    "property.columns"
   ]
  },
  {
   "cell_type": "code",
   "execution_count": 15,
   "metadata": {},
   "outputs": [],
   "source": [
    "prop = property[['PropID', 'Property Address', 'Property Name', 'Market Name', 'City', 'State', 'Zip', 'Number Of Units', 'Number Of 1 Bedrooms', 'Number Of 2 Bedrooms', 'Number Of 3 Bedrooms', 'Number Of 4 Bedrooms']]"
   ]
  },
  {
   "cell_type": "code",
   "execution_count": 16,
   "metadata": {},
   "outputs": [
    {
     "data": {
      "text/html": [
       "<div>\n",
       "<style scoped>\n",
       "    .dataframe tbody tr th:only-of-type {\n",
       "        vertical-align: middle;\n",
       "    }\n",
       "\n",
       "    .dataframe tbody tr th {\n",
       "        vertical-align: top;\n",
       "    }\n",
       "\n",
       "    .dataframe thead th {\n",
       "        text-align: right;\n",
       "    }\n",
       "</style>\n",
       "<table border=\"1\" class=\"dataframe\">\n",
       "  <thead>\n",
       "    <tr style=\"text-align: right;\">\n",
       "      <th></th>\n",
       "      <th>PropID</th>\n",
       "      <th>Property Address</th>\n",
       "      <th>Property Name</th>\n",
       "      <th>Market Name</th>\n",
       "      <th>City</th>\n",
       "      <th>State</th>\n",
       "      <th>Zip</th>\n",
       "      <th>Number Of Units</th>\n",
       "      <th>Number Of 1 Bedrooms</th>\n",
       "      <th>Number Of 2 Bedrooms</th>\n",
       "      <th>Number Of 3 Bedrooms</th>\n",
       "      <th>Number Of 4 Bedrooms</th>\n",
       "    </tr>\n",
       "  </thead>\n",
       "  <tbody>\n",
       "    <tr>\n",
       "      <th>0</th>\n",
       "      <td>P1</td>\n",
       "      <td>6215 Johns Creek Cmn</td>\n",
       "      <td>The Reserve at Johns Creek Walk</td>\n",
       "      <td>Atlanta</td>\n",
       "      <td>Johns Creek</td>\n",
       "      <td>GA</td>\n",
       "      <td>300971535</td>\n",
       "      <td>210</td>\n",
       "      <td>75.0</td>\n",
       "      <td>98.0</td>\n",
       "      <td>37.0</td>\n",
       "      <td>NaN</td>\n",
       "    </tr>\n",
       "    <tr>\n",
       "      <th>1</th>\n",
       "      <td>P2</td>\n",
       "      <td>927 3rd St NW</td>\n",
       "      <td>8West</td>\n",
       "      <td>Atlanta</td>\n",
       "      <td>Atlanta</td>\n",
       "      <td>GA</td>\n",
       "      <td>30318</td>\n",
       "      <td>264</td>\n",
       "      <td>98.0</td>\n",
       "      <td>131.0</td>\n",
       "      <td>30.0</td>\n",
       "      <td>NaN</td>\n",
       "    </tr>\n",
       "    <tr>\n",
       "      <th>2</th>\n",
       "      <td>P3</td>\n",
       "      <td>555 NW 8th St</td>\n",
       "      <td>Eighth Street Apartments</td>\n",
       "      <td>Atlanta</td>\n",
       "      <td>Atlanta</td>\n",
       "      <td>GA</td>\n",
       "      <td>30318</td>\n",
       "      <td>200</td>\n",
       "      <td>NaN</td>\n",
       "      <td>50.0</td>\n",
       "      <td>50.0</td>\n",
       "      <td>100.0</td>\n",
       "    </tr>\n",
       "    <tr>\n",
       "      <th>3</th>\n",
       "      <td>P4</td>\n",
       "      <td>250 10th St NE</td>\n",
       "      <td>Post Parkside ATL</td>\n",
       "      <td>Atlanta</td>\n",
       "      <td>Atlanta</td>\n",
       "      <td>GA</td>\n",
       "      <td>303093735</td>\n",
       "      <td>188</td>\n",
       "      <td>85.0</td>\n",
       "      <td>42.0</td>\n",
       "      <td>NaN</td>\n",
       "      <td>NaN</td>\n",
       "    </tr>\n",
       "    <tr>\n",
       "      <th>4</th>\n",
       "      <td>P5</td>\n",
       "      <td>100 10th St NW</td>\n",
       "      <td>100 Midtown</td>\n",
       "      <td>Atlanta</td>\n",
       "      <td>Atlanta</td>\n",
       "      <td>GA</td>\n",
       "      <td>30309</td>\n",
       "      <td>118</td>\n",
       "      <td>NaN</td>\n",
       "      <td>72.0</td>\n",
       "      <td>NaN</td>\n",
       "      <td>46.0</td>\n",
       "    </tr>\n",
       "  </tbody>\n",
       "</table>\n",
       "</div>"
      ],
      "text/plain": [
       "  PropID      Property Address                    Property Name Market Name  \\\n",
       "0     P1  6215 Johns Creek Cmn  The Reserve at Johns Creek Walk     Atlanta   \n",
       "1     P2         927 3rd St NW                            8West     Atlanta   \n",
       "2     P3         555 NW 8th St         Eighth Street Apartments     Atlanta   \n",
       "3     P4        250 10th St NE                Post Parkside ATL     Atlanta   \n",
       "4     P5        100 10th St NW                      100 Midtown     Atlanta   \n",
       "\n",
       "          City State        Zip  Number Of Units  Number Of 1 Bedrooms  \\\n",
       "0  Johns Creek    GA  300971535              210                  75.0   \n",
       "1      Atlanta    GA      30318              264                  98.0   \n",
       "2      Atlanta    GA      30318              200                   NaN   \n",
       "3      Atlanta    GA  303093735              188                  85.0   \n",
       "4      Atlanta    GA      30309              118                   NaN   \n",
       "\n",
       "   Number Of 2 Bedrooms  Number Of 3 Bedrooms  Number Of 4 Bedrooms  \n",
       "0                  98.0                  37.0                   NaN  \n",
       "1                 131.0                  30.0                   NaN  \n",
       "2                  50.0                  50.0                 100.0  \n",
       "3                  42.0                   NaN                   NaN  \n",
       "4                  72.0                   NaN                  46.0  "
      ]
     },
     "execution_count": 16,
     "metadata": {},
     "output_type": "execute_result"
    }
   ],
   "source": [
    "prop.head(5)"
   ]
  },
  {
   "cell_type": "code",
   "execution_count": 13,
   "metadata": {},
   "outputs": [],
   "source": [
    "georgia = pd.read_csv('Georgia_all_data.csv')"
   ]
  },
  {
   "cell_type": "code",
   "execution_count": 14,
   "metadata": {},
   "outputs": [],
   "source": [
    "georgia = georgia[['SCAPN', 'PropID', 'City', 'County', 'Zip', 'Num_units', 'Num_studio', 'Num_1_bed', 'Num_2_bed','Num_3_bed', 'Num_4_bed', 'Price_per_sqft']]"
   ]
  },
  {
   "cell_type": "code",
   "execution_count": 15,
   "metadata": {},
   "outputs": [
    {
     "data": {
      "text/html": [
       "<div>\n",
       "<style scoped>\n",
       "    .dataframe tbody tr th:only-of-type {\n",
       "        vertical-align: middle;\n",
       "    }\n",
       "\n",
       "    .dataframe tbody tr th {\n",
       "        vertical-align: top;\n",
       "    }\n",
       "\n",
       "    .dataframe thead th {\n",
       "        text-align: right;\n",
       "    }\n",
       "</style>\n",
       "<table border=\"1\" class=\"dataframe\">\n",
       "  <thead>\n",
       "    <tr style=\"text-align: right;\">\n",
       "      <th></th>\n",
       "      <th>SCAPN</th>\n",
       "      <th>PropID</th>\n",
       "      <th>City</th>\n",
       "      <th>County</th>\n",
       "      <th>Zip</th>\n",
       "      <th>Num_units</th>\n",
       "      <th>Num_studio</th>\n",
       "      <th>Num_1_bed</th>\n",
       "      <th>Num_2_bed</th>\n",
       "      <th>Num_3_bed</th>\n",
       "      <th>Num_4_bed</th>\n",
       "      <th>Price_per_sqft</th>\n",
       "    </tr>\n",
       "  </thead>\n",
       "  <tbody>\n",
       "    <tr>\n",
       "      <th>0</th>\n",
       "      <td>GA Fulton 11-1000-0359-034</td>\n",
       "      <td>P1</td>\n",
       "      <td>Johns Creek</td>\n",
       "      <td>Fulton</td>\n",
       "      <td>300971535</td>\n",
       "      <td>210</td>\n",
       "      <td>NaN</td>\n",
       "      <td>75.0</td>\n",
       "      <td>98.0</td>\n",
       "      <td>37.0</td>\n",
       "      <td>NaN</td>\n",
       "      <td>180.16</td>\n",
       "    </tr>\n",
       "    <tr>\n",
       "      <th>1</th>\n",
       "      <td>GA Fulton 11-1000-0359-034</td>\n",
       "      <td>P1</td>\n",
       "      <td>Johns Creek</td>\n",
       "      <td>Fulton</td>\n",
       "      <td>300971535</td>\n",
       "      <td>210</td>\n",
       "      <td>NaN</td>\n",
       "      <td>75.0</td>\n",
       "      <td>98.0</td>\n",
       "      <td>37.0</td>\n",
       "      <td>NaN</td>\n",
       "      <td>142.98</td>\n",
       "    </tr>\n",
       "    <tr>\n",
       "      <th>2</th>\n",
       "      <td>GA Fulton 14-0112-0003-061-5</td>\n",
       "      <td>P2</td>\n",
       "      <td>Atlanta</td>\n",
       "      <td>Fulton</td>\n",
       "      <td>30318</td>\n",
       "      <td>264</td>\n",
       "      <td>5.0</td>\n",
       "      <td>98.0</td>\n",
       "      <td>131.0</td>\n",
       "      <td>30.0</td>\n",
       "      <td>NaN</td>\n",
       "      <td>NaN</td>\n",
       "    </tr>\n",
       "  </tbody>\n",
       "</table>\n",
       "</div>"
      ],
      "text/plain": [
       "                          SCAPN PropID         City  County        Zip  \\\n",
       "0    GA Fulton 11-1000-0359-034     P1  Johns Creek  Fulton  300971535   \n",
       "1    GA Fulton 11-1000-0359-034     P1  Johns Creek  Fulton  300971535   \n",
       "2  GA Fulton 14-0112-0003-061-5     P2      Atlanta  Fulton      30318   \n",
       "\n",
       "   Num_units  Num_studio  Num_1_bed  Num_2_bed  Num_3_bed  Num_4_bed  \\\n",
       "0        210         NaN       75.0       98.0       37.0        NaN   \n",
       "1        210         NaN       75.0       98.0       37.0        NaN   \n",
       "2        264         5.0       98.0      131.0       30.0        NaN   \n",
       "\n",
       "   Price_per_sqft  \n",
       "0          180.16  \n",
       "1          142.98  \n",
       "2             NaN  "
      ]
     },
     "execution_count": 15,
     "metadata": {},
     "output_type": "execute_result"
    }
   ],
   "source": [
    "georgia.head(3)"
   ]
  },
  {
   "cell_type": "code",
   "execution_count": 16,
   "metadata": {},
   "outputs": [],
   "source": [
    "studio_perc = georgia['Num_studio']/georgia['Num_units']"
   ]
  },
  {
   "cell_type": "code",
   "execution_count": 17,
   "metadata": {},
   "outputs": [],
   "source": [
    "georgia.insert(6, 'percent_studio', studio_perc, True)"
   ]
  },
  {
   "cell_type": "code",
   "execution_count": 18,
   "metadata": {},
   "outputs": [],
   "source": [
    "georgia.insert(6, 'percent_1', georgia['Num_1_bed']/georgia['Num_units'], True)\n",
    "georgia.insert(6, 'percent_2', georgia['Num_2_bed']/georgia['Num_units'], True)\n",
    "georgia.insert(6, 'percent_3', georgia['Num_3_bed']/georgia['Num_units'], True)\n",
    "georgia.insert(6, 'percent_4', georgia['Num_4_bed']/georgia['Num_units'], True)"
   ]
  },
  {
   "cell_type": "code",
   "execution_count": 9,
   "metadata": {},
   "outputs": [
    {
     "data": {
      "text/plain": [
       "100    108\n",
       "200     88\n",
       "120     80\n",
       "240     75\n",
       "300     53\n",
       "144     45\n",
       "152     43\n",
       "192     43\n",
       "250     40\n",
       "112     40\n",
       "Name: Num_units, dtype: int64"
      ]
     },
     "execution_count": 9,
     "metadata": {},
     "output_type": "execute_result"
    }
   ],
   "source": [
    "georgia.Num_units.value_counts().head(10)"
   ]
  },
  {
   "cell_type": "code",
   "execution_count": 50,
   "metadata": {
    "scrolled": true
   },
   "outputs": [
    {
     "data": {
      "text/plain": [
       "Num_units\n",
       "60            NaN\n",
       "100        115.81\n",
       "101         48.58\n",
       "102    1720550.00\n",
       "103    1720550.00\n",
       "Name: Price_per_sqft, dtype: float64"
      ]
     },
     "execution_count": 50,
     "metadata": {},
     "output_type": "execute_result"
    }
   ],
   "source": [
    "georgia.groupby('Num_units')['Price_per_sqft'].max().head(5)"
   ]
  },
  {
   "cell_type": "code",
   "execution_count": 55,
   "metadata": {},
   "outputs": [
    {
     "data": {
      "text/html": [
       "<div>\n",
       "<style scoped>\n",
       "    .dataframe tbody tr th:only-of-type {\n",
       "        vertical-align: middle;\n",
       "    }\n",
       "\n",
       "    .dataframe tbody tr th {\n",
       "        vertical-align: top;\n",
       "    }\n",
       "\n",
       "    .dataframe thead th {\n",
       "        text-align: right;\n",
       "    }\n",
       "</style>\n",
       "<table border=\"1\" class=\"dataframe\">\n",
       "  <thead>\n",
       "    <tr style=\"text-align: right;\">\n",
       "      <th></th>\n",
       "      <th>SCAPN</th>\n",
       "      <th>PropID</th>\n",
       "      <th>City</th>\n",
       "      <th>County</th>\n",
       "      <th>Zip</th>\n",
       "      <th>Num_units</th>\n",
       "      <th>percent_4</th>\n",
       "      <th>percent_3</th>\n",
       "      <th>percent_2</th>\n",
       "      <th>percent_1</th>\n",
       "      <th>percent_studio</th>\n",
       "      <th>Num_studio</th>\n",
       "      <th>Num_1_bed</th>\n",
       "      <th>Num_2_bed</th>\n",
       "      <th>Num_3_bed</th>\n",
       "      <th>Num_4_bed</th>\n",
       "      <th>Price_per_sqft</th>\n",
       "      <th>percent_studio</th>\n",
       "    </tr>\n",
       "  </thead>\n",
       "  <tbody>\n",
       "    <tr>\n",
       "      <th>1512</th>\n",
       "      <td>GA Jackson 020-051</td>\n",
       "      <td>P1330</td>\n",
       "      <td>Commerce</td>\n",
       "      <td>Jackson</td>\n",
       "      <td>305297733</td>\n",
       "      <td>103</td>\n",
       "      <td>NaN</td>\n",
       "      <td>NaN</td>\n",
       "      <td>1.000000</td>\n",
       "      <td>NaN</td>\n",
       "      <td>NaN</td>\n",
       "      <td>NaN</td>\n",
       "      <td>NaN</td>\n",
       "      <td>103.0</td>\n",
       "      <td>NaN</td>\n",
       "      <td>NaN</td>\n",
       "      <td>43.43</td>\n",
       "      <td>NaN</td>\n",
       "    </tr>\n",
       "    <tr>\n",
       "      <th>1513</th>\n",
       "      <td>GA Jackson 020-051</td>\n",
       "      <td>P1330</td>\n",
       "      <td>Commerce</td>\n",
       "      <td>Jackson</td>\n",
       "      <td>305297733</td>\n",
       "      <td>103</td>\n",
       "      <td>NaN</td>\n",
       "      <td>NaN</td>\n",
       "      <td>1.000000</td>\n",
       "      <td>NaN</td>\n",
       "      <td>NaN</td>\n",
       "      <td>NaN</td>\n",
       "      <td>NaN</td>\n",
       "      <td>103.0</td>\n",
       "      <td>NaN</td>\n",
       "      <td>NaN</td>\n",
       "      <td>32.36</td>\n",
       "      <td>NaN</td>\n",
       "    </tr>\n",
       "    <tr>\n",
       "      <th>2409</th>\n",
       "      <td>GA Douglas 0182-03-6-0-007</td>\n",
       "      <td>P1928</td>\n",
       "      <td>Lithia Springs</td>\n",
       "      <td>Douglas</td>\n",
       "      <td>301221756</td>\n",
       "      <td>103</td>\n",
       "      <td>NaN</td>\n",
       "      <td>NaN</td>\n",
       "      <td>NaN</td>\n",
       "      <td>NaN</td>\n",
       "      <td>NaN</td>\n",
       "      <td>NaN</td>\n",
       "      <td>NaN</td>\n",
       "      <td>NaN</td>\n",
       "      <td>NaN</td>\n",
       "      <td>NaN</td>\n",
       "      <td>1720550.00</td>\n",
       "      <td>NaN</td>\n",
       "    </tr>\n",
       "    <tr>\n",
       "      <th>2410</th>\n",
       "      <td>GA Douglas 0182-03-6-0-007</td>\n",
       "      <td>P1928</td>\n",
       "      <td>Lithia Springs</td>\n",
       "      <td>Douglas</td>\n",
       "      <td>301221756</td>\n",
       "      <td>103</td>\n",
       "      <td>NaN</td>\n",
       "      <td>NaN</td>\n",
       "      <td>NaN</td>\n",
       "      <td>NaN</td>\n",
       "      <td>NaN</td>\n",
       "      <td>NaN</td>\n",
       "      <td>NaN</td>\n",
       "      <td>NaN</td>\n",
       "      <td>NaN</td>\n",
       "      <td>NaN</td>\n",
       "      <td>NaN</td>\n",
       "      <td>NaN</td>\n",
       "    </tr>\n",
       "    <tr>\n",
       "      <th>3248</th>\n",
       "      <td>GA Clarke 234D2-C-019</td>\n",
       "      <td>P2523</td>\n",
       "      <td>Athens</td>\n",
       "      <td>Clarke</td>\n",
       "      <td>30605</td>\n",
       "      <td>103</td>\n",
       "      <td>0.330097</td>\n",
       "      <td>0.495146</td>\n",
       "      <td>0.174757</td>\n",
       "      <td>NaN</td>\n",
       "      <td>NaN</td>\n",
       "      <td>NaN</td>\n",
       "      <td>NaN</td>\n",
       "      <td>18.0</td>\n",
       "      <td>51.0</td>\n",
       "      <td>34.0</td>\n",
       "      <td>NaN</td>\n",
       "      <td>NaN</td>\n",
       "    </tr>\n",
       "    <tr>\n",
       "      <th>3552</th>\n",
       "      <td>GA Chatham 2-0693-05-002</td>\n",
       "      <td>P2774</td>\n",
       "      <td>Savannah</td>\n",
       "      <td>Chatham</td>\n",
       "      <td>314192249</td>\n",
       "      <td>103</td>\n",
       "      <td>NaN</td>\n",
       "      <td>NaN</td>\n",
       "      <td>0.174757</td>\n",
       "      <td>0.708738</td>\n",
       "      <td>0.116505</td>\n",
       "      <td>12.0</td>\n",
       "      <td>73.0</td>\n",
       "      <td>18.0</td>\n",
       "      <td>NaN</td>\n",
       "      <td>NaN</td>\n",
       "      <td>38.33</td>\n",
       "      <td>0.116505</td>\n",
       "    </tr>\n",
       "  </tbody>\n",
       "</table>\n",
       "</div>"
      ],
      "text/plain": [
       "                           SCAPN PropID            City   County        Zip  \\\n",
       "1512          GA Jackson 020-051  P1330        Commerce  Jackson  305297733   \n",
       "1513          GA Jackson 020-051  P1330        Commerce  Jackson  305297733   \n",
       "2409  GA Douglas 0182-03-6-0-007  P1928  Lithia Springs  Douglas  301221756   \n",
       "2410  GA Douglas 0182-03-6-0-007  P1928  Lithia Springs  Douglas  301221756   \n",
       "3248       GA Clarke 234D2-C-019  P2523          Athens   Clarke      30605   \n",
       "3552    GA Chatham 2-0693-05-002  P2774        Savannah  Chatham  314192249   \n",
       "\n",
       "      Num_units  percent_4  percent_3  percent_2  percent_1  percent_studio  \\\n",
       "1512        103        NaN        NaN   1.000000        NaN             NaN   \n",
       "1513        103        NaN        NaN   1.000000        NaN             NaN   \n",
       "2409        103        NaN        NaN        NaN        NaN             NaN   \n",
       "2410        103        NaN        NaN        NaN        NaN             NaN   \n",
       "3248        103   0.330097   0.495146   0.174757        NaN             NaN   \n",
       "3552        103        NaN        NaN   0.174757   0.708738        0.116505   \n",
       "\n",
       "      Num_studio  Num_1_bed  Num_2_bed  Num_3_bed  Num_4_bed  Price_per_sqft  \\\n",
       "1512         NaN        NaN      103.0        NaN        NaN           43.43   \n",
       "1513         NaN        NaN      103.0        NaN        NaN           32.36   \n",
       "2409         NaN        NaN        NaN        NaN        NaN      1720550.00   \n",
       "2410         NaN        NaN        NaN        NaN        NaN             NaN   \n",
       "3248         NaN        NaN       18.0       51.0       34.0             NaN   \n",
       "3552        12.0       73.0       18.0        NaN        NaN           38.33   \n",
       "\n",
       "      percent_studio  \n",
       "1512             NaN  \n",
       "1513             NaN  \n",
       "2409             NaN  \n",
       "2410             NaN  \n",
       "3248             NaN  \n",
       "3552        0.116505  "
      ]
     },
     "execution_count": 55,
     "metadata": {},
     "output_type": "execute_result"
    }
   ],
   "source": [
    "georgia[georgia.Num_units == 103]"
   ]
  },
  {
   "cell_type": "code",
   "execution_count": 66,
   "metadata": {},
   "outputs": [
    {
     "data": {
      "text/html": [
       "<div>\n",
       "<style scoped>\n",
       "    .dataframe tbody tr th:only-of-type {\n",
       "        vertical-align: middle;\n",
       "    }\n",
       "\n",
       "    .dataframe tbody tr th {\n",
       "        vertical-align: top;\n",
       "    }\n",
       "\n",
       "    .dataframe thead th {\n",
       "        text-align: right;\n",
       "    }\n",
       "</style>\n",
       "<table border=\"1\" class=\"dataframe\">\n",
       "  <thead>\n",
       "    <tr style=\"text-align: right;\">\n",
       "      <th></th>\n",
       "      <th>SCAPN</th>\n",
       "      <th>PropID</th>\n",
       "      <th>City</th>\n",
       "      <th>County</th>\n",
       "      <th>Zip</th>\n",
       "      <th>Num_units</th>\n",
       "      <th>percent_4</th>\n",
       "      <th>percent_3</th>\n",
       "      <th>percent_2</th>\n",
       "      <th>percent_1</th>\n",
       "      <th>percent_studio</th>\n",
       "      <th>Num_studio</th>\n",
       "      <th>Num_1_bed</th>\n",
       "      <th>Num_2_bed</th>\n",
       "      <th>Num_3_bed</th>\n",
       "      <th>Num_4_bed</th>\n",
       "      <th>Price_per_sqft</th>\n",
       "      <th>percent_studio</th>\n",
       "    </tr>\n",
       "  </thead>\n",
       "  <tbody>\n",
       "    <tr>\n",
       "      <th>963</th>\n",
       "      <td>GA Walton LG10000000052A00</td>\n",
       "      <td>P889</td>\n",
       "      <td>Loganville</td>\n",
       "      <td>Walton</td>\n",
       "      <td>300527391</td>\n",
       "      <td>130</td>\n",
       "      <td>NaN</td>\n",
       "      <td>NaN</td>\n",
       "      <td>NaN</td>\n",
       "      <td>NaN</td>\n",
       "      <td>NaN</td>\n",
       "      <td>NaN</td>\n",
       "      <td>NaN</td>\n",
       "      <td>NaN</td>\n",
       "      <td>NaN</td>\n",
       "      <td>NaN</td>\n",
       "      <td>3000000.0</td>\n",
       "      <td>NaN</td>\n",
       "    </tr>\n",
       "    <tr>\n",
       "      <th>1669</th>\n",
       "      <td>GA Henry 074--01-024-000</td>\n",
       "      <td>P1446</td>\n",
       "      <td>Mcdonough</td>\n",
       "      <td>Henry</td>\n",
       "      <td>30253</td>\n",
       "      <td>489</td>\n",
       "      <td>NaN</td>\n",
       "      <td>1.0</td>\n",
       "      <td>NaN</td>\n",
       "      <td>NaN</td>\n",
       "      <td>NaN</td>\n",
       "      <td>NaN</td>\n",
       "      <td>NaN</td>\n",
       "      <td>NaN</td>\n",
       "      <td>489.0</td>\n",
       "      <td>NaN</td>\n",
       "      <td>2382.5</td>\n",
       "      <td>NaN</td>\n",
       "    </tr>\n",
       "    <tr>\n",
       "      <th>1719</th>\n",
       "      <td>GA Douglas 0182-03-6-0-007</td>\n",
       "      <td>P1483</td>\n",
       "      <td>Lithia Springs</td>\n",
       "      <td>Douglas</td>\n",
       "      <td>30122</td>\n",
       "      <td>102</td>\n",
       "      <td>NaN</td>\n",
       "      <td>NaN</td>\n",
       "      <td>NaN</td>\n",
       "      <td>NaN</td>\n",
       "      <td>NaN</td>\n",
       "      <td>NaN</td>\n",
       "      <td>NaN</td>\n",
       "      <td>NaN</td>\n",
       "      <td>NaN</td>\n",
       "      <td>NaN</td>\n",
       "      <td>1720550.0</td>\n",
       "      <td>NaN</td>\n",
       "    </tr>\n",
       "    <tr>\n",
       "      <th>2409</th>\n",
       "      <td>GA Douglas 0182-03-6-0-007</td>\n",
       "      <td>P1928</td>\n",
       "      <td>Lithia Springs</td>\n",
       "      <td>Douglas</td>\n",
       "      <td>301221756</td>\n",
       "      <td>103</td>\n",
       "      <td>NaN</td>\n",
       "      <td>NaN</td>\n",
       "      <td>NaN</td>\n",
       "      <td>NaN</td>\n",
       "      <td>NaN</td>\n",
       "      <td>NaN</td>\n",
       "      <td>NaN</td>\n",
       "      <td>NaN</td>\n",
       "      <td>NaN</td>\n",
       "      <td>NaN</td>\n",
       "      <td>1720550.0</td>\n",
       "      <td>NaN</td>\n",
       "    </tr>\n",
       "    <tr>\n",
       "      <th>2561</th>\n",
       "      <td>GA Cobb 20-0037-0-012-0</td>\n",
       "      <td>P2031</td>\n",
       "      <td>Acworth</td>\n",
       "      <td>Cobb</td>\n",
       "      <td>30101</td>\n",
       "      <td>225</td>\n",
       "      <td>NaN</td>\n",
       "      <td>NaN</td>\n",
       "      <td>1.0</td>\n",
       "      <td>NaN</td>\n",
       "      <td>NaN</td>\n",
       "      <td>NaN</td>\n",
       "      <td>NaN</td>\n",
       "      <td>225.0</td>\n",
       "      <td>NaN</td>\n",
       "      <td>NaN</td>\n",
       "      <td>1725000.0</td>\n",
       "      <td>NaN</td>\n",
       "    </tr>\n",
       "    <tr>\n",
       "      <th>2600</th>\n",
       "      <td>GA Clayton 12-0089D-00A-001</td>\n",
       "      <td>P2058</td>\n",
       "      <td>Stockbridge</td>\n",
       "      <td>Clayton</td>\n",
       "      <td>30281</td>\n",
       "      <td>525</td>\n",
       "      <td>NaN</td>\n",
       "      <td>NaN</td>\n",
       "      <td>NaN</td>\n",
       "      <td>NaN</td>\n",
       "      <td>NaN</td>\n",
       "      <td>NaN</td>\n",
       "      <td>NaN</td>\n",
       "      <td>NaN</td>\n",
       "      <td>NaN</td>\n",
       "      <td>NaN</td>\n",
       "      <td>17140000.0</td>\n",
       "      <td>NaN</td>\n",
       "    </tr>\n",
       "    <tr>\n",
       "      <th>3149</th>\n",
       "      <td>GA Cherokee 015N05-00000-002-000-0000</td>\n",
       "      <td>P2436</td>\n",
       "      <td>Acworth</td>\n",
       "      <td>Cherokee</td>\n",
       "      <td>30102</td>\n",
       "      <td>507</td>\n",
       "      <td>NaN</td>\n",
       "      <td>NaN</td>\n",
       "      <td>NaN</td>\n",
       "      <td>NaN</td>\n",
       "      <td>NaN</td>\n",
       "      <td>NaN</td>\n",
       "      <td>NaN</td>\n",
       "      <td>NaN</td>\n",
       "      <td>NaN</td>\n",
       "      <td>NaN</td>\n",
       "      <td>13300000.0</td>\n",
       "      <td>NaN</td>\n",
       "    </tr>\n",
       "    <tr>\n",
       "      <th>3251</th>\n",
       "      <td>GA Chatham 1-0470-02-003</td>\n",
       "      <td>P2526</td>\n",
       "      <td>Savannah</td>\n",
       "      <td>Chatham</td>\n",
       "      <td>31406</td>\n",
       "      <td>191</td>\n",
       "      <td>NaN</td>\n",
       "      <td>NaN</td>\n",
       "      <td>NaN</td>\n",
       "      <td>NaN</td>\n",
       "      <td>NaN</td>\n",
       "      <td>NaN</td>\n",
       "      <td>NaN</td>\n",
       "      <td>NaN</td>\n",
       "      <td>NaN</td>\n",
       "      <td>NaN</td>\n",
       "      <td>823757.0</td>\n",
       "      <td>NaN</td>\n",
       "    </tr>\n",
       "    <tr>\n",
       "      <th>3252</th>\n",
       "      <td>GA Chatham 1-0470-02-003</td>\n",
       "      <td>P2526</td>\n",
       "      <td>Savannah</td>\n",
       "      <td>Chatham</td>\n",
       "      <td>31406</td>\n",
       "      <td>191</td>\n",
       "      <td>NaN</td>\n",
       "      <td>NaN</td>\n",
       "      <td>NaN</td>\n",
       "      <td>NaN</td>\n",
       "      <td>NaN</td>\n",
       "      <td>NaN</td>\n",
       "      <td>NaN</td>\n",
       "      <td>NaN</td>\n",
       "      <td>NaN</td>\n",
       "      <td>NaN</td>\n",
       "      <td>446700.0</td>\n",
       "      <td>NaN</td>\n",
       "    </tr>\n",
       "    <tr>\n",
       "      <th>3453</th>\n",
       "      <td>GA Chatham 1-0938-02-008</td>\n",
       "      <td>P2691</td>\n",
       "      <td>Savannah</td>\n",
       "      <td>Chatham</td>\n",
       "      <td>314051214</td>\n",
       "      <td>192</td>\n",
       "      <td>NaN</td>\n",
       "      <td>NaN</td>\n",
       "      <td>NaN</td>\n",
       "      <td>1.0</td>\n",
       "      <td>NaN</td>\n",
       "      <td>NaN</td>\n",
       "      <td>192.0</td>\n",
       "      <td>NaN</td>\n",
       "      <td>NaN</td>\n",
       "      <td>NaN</td>\n",
       "      <td>2250000.0</td>\n",
       "      <td>NaN</td>\n",
       "    </tr>\n",
       "  </tbody>\n",
       "</table>\n",
       "</div>"
      ],
      "text/plain": [
       "                                      SCAPN PropID            City    County  \\\n",
       "963              GA Walton LG10000000052A00   P889      Loganville    Walton   \n",
       "1669               GA Henry 074--01-024-000  P1446       Mcdonough     Henry   \n",
       "1719             GA Douglas 0182-03-6-0-007  P1483  Lithia Springs   Douglas   \n",
       "2409             GA Douglas 0182-03-6-0-007  P1928  Lithia Springs   Douglas   \n",
       "2561                GA Cobb 20-0037-0-012-0  P2031         Acworth      Cobb   \n",
       "2600            GA Clayton 12-0089D-00A-001  P2058     Stockbridge   Clayton   \n",
       "3149  GA Cherokee 015N05-00000-002-000-0000  P2436         Acworth  Cherokee   \n",
       "3251               GA Chatham 1-0470-02-003  P2526        Savannah   Chatham   \n",
       "3252               GA Chatham 1-0470-02-003  P2526        Savannah   Chatham   \n",
       "3453               GA Chatham 1-0938-02-008  P2691        Savannah   Chatham   \n",
       "\n",
       "            Zip  Num_units  percent_4  percent_3  percent_2  percent_1  \\\n",
       "963   300527391        130        NaN        NaN        NaN        NaN   \n",
       "1669      30253        489        NaN        1.0        NaN        NaN   \n",
       "1719      30122        102        NaN        NaN        NaN        NaN   \n",
       "2409  301221756        103        NaN        NaN        NaN        NaN   \n",
       "2561      30101        225        NaN        NaN        1.0        NaN   \n",
       "2600      30281        525        NaN        NaN        NaN        NaN   \n",
       "3149      30102        507        NaN        NaN        NaN        NaN   \n",
       "3251      31406        191        NaN        NaN        NaN        NaN   \n",
       "3252      31406        191        NaN        NaN        NaN        NaN   \n",
       "3453  314051214        192        NaN        NaN        NaN        1.0   \n",
       "\n",
       "      percent_studio  Num_studio  Num_1_bed  Num_2_bed  Num_3_bed  Num_4_bed  \\\n",
       "963              NaN         NaN        NaN        NaN        NaN        NaN   \n",
       "1669             NaN         NaN        NaN        NaN      489.0        NaN   \n",
       "1719             NaN         NaN        NaN        NaN        NaN        NaN   \n",
       "2409             NaN         NaN        NaN        NaN        NaN        NaN   \n",
       "2561             NaN         NaN        NaN      225.0        NaN        NaN   \n",
       "2600             NaN         NaN        NaN        NaN        NaN        NaN   \n",
       "3149             NaN         NaN        NaN        NaN        NaN        NaN   \n",
       "3251             NaN         NaN        NaN        NaN        NaN        NaN   \n",
       "3252             NaN         NaN        NaN        NaN        NaN        NaN   \n",
       "3453             NaN         NaN      192.0        NaN        NaN        NaN   \n",
       "\n",
       "      Price_per_sqft  percent_studio  \n",
       "963        3000000.0             NaN  \n",
       "1669          2382.5             NaN  \n",
       "1719       1720550.0             NaN  \n",
       "2409       1720550.0             NaN  \n",
       "2561       1725000.0             NaN  \n",
       "2600      17140000.0             NaN  \n",
       "3149      13300000.0             NaN  \n",
       "3251        823757.0             NaN  \n",
       "3252        446700.0             NaN  \n",
       "3453       2250000.0             NaN  "
      ]
     },
     "execution_count": 66,
     "metadata": {},
     "output_type": "execute_result"
    }
   ],
   "source": [
    "georgia[georgia.Price_per_sqft > 2000 ]"
   ]
  },
  {
   "cell_type": "code",
   "execution_count": 21,
   "metadata": {},
   "outputs": [
    {
     "data": {
      "text/html": [
       "<div>\n",
       "<style scoped>\n",
       "    .dataframe tbody tr th:only-of-type {\n",
       "        vertical-align: middle;\n",
       "    }\n",
       "\n",
       "    .dataframe tbody tr th {\n",
       "        vertical-align: top;\n",
       "    }\n",
       "\n",
       "    .dataframe thead th {\n",
       "        text-align: right;\n",
       "    }\n",
       "</style>\n",
       "<table border=\"1\" class=\"dataframe\">\n",
       "  <thead>\n",
       "    <tr style=\"text-align: right;\">\n",
       "      <th></th>\n",
       "      <th>percent_1</th>\n",
       "      <th>percent_2</th>\n",
       "      <th>percent_3</th>\n",
       "      <th>percent_4</th>\n",
       "      <th>percent_studio</th>\n",
       "    </tr>\n",
       "  </thead>\n",
       "  <tbody>\n",
       "    <tr>\n",
       "      <th>0</th>\n",
       "      <td>0.357143</td>\n",
       "      <td>0.466667</td>\n",
       "      <td>0.176190</td>\n",
       "      <td>NaN</td>\n",
       "      <td>NaN</td>\n",
       "    </tr>\n",
       "    <tr>\n",
       "      <th>1</th>\n",
       "      <td>0.357143</td>\n",
       "      <td>0.466667</td>\n",
       "      <td>0.176190</td>\n",
       "      <td>NaN</td>\n",
       "      <td>NaN</td>\n",
       "    </tr>\n",
       "    <tr>\n",
       "      <th>7</th>\n",
       "      <td>0.387597</td>\n",
       "      <td>NaN</td>\n",
       "      <td>NaN</td>\n",
       "      <td>NaN</td>\n",
       "      <td>0.612403</td>\n",
       "    </tr>\n",
       "    <tr>\n",
       "      <th>11</th>\n",
       "      <td>0.629442</td>\n",
       "      <td>0.172589</td>\n",
       "      <td>NaN</td>\n",
       "      <td>NaN</td>\n",
       "      <td>0.197970</td>\n",
       "    </tr>\n",
       "    <tr>\n",
       "      <th>14</th>\n",
       "      <td>0.143836</td>\n",
       "      <td>0.219178</td>\n",
       "      <td>0.232877</td>\n",
       "      <td>NaN</td>\n",
       "      <td>0.404110</td>\n",
       "    </tr>\n",
       "  </tbody>\n",
       "</table>\n",
       "</div>"
      ],
      "text/plain": [
       "    percent_1  percent_2  percent_3  percent_4  percent_studio\n",
       "0    0.357143   0.466667   0.176190        NaN             NaN\n",
       "1    0.357143   0.466667   0.176190        NaN             NaN\n",
       "7    0.387597        NaN        NaN        NaN        0.612403\n",
       "11   0.629442   0.172589        NaN        NaN        0.197970\n",
       "14   0.143836   0.219178   0.232877        NaN        0.404110"
      ]
     },
     "execution_count": 21,
     "metadata": {},
     "output_type": "execute_result"
    }
   ],
   "source": [
    "georgia[['percent_1', 'percent_2', 'percent_3', 'percent_4', 'percent_studio']].head(5)"
   ]
  },
  {
   "cell_type": "code",
   "execution_count": 11,
   "metadata": {},
   "outputs": [],
   "source": [
    "georgia.insert(6, 'percent_studio', georgia['Num_studio']/georgia['Num_units'], True)"
   ]
  },
  {
   "cell_type": "code",
   "execution_count": 32,
   "metadata": {},
   "outputs": [
    {
     "data": {
      "text/plain": [
       "SCAPN             1773\n",
       "PropID            1773\n",
       "City              1773\n",
       "County            1773\n",
       "Zip               1773\n",
       "Num_units         1773\n",
       "Category          1773\n",
       "percent_4          158\n",
       "percent_3         1264\n",
       "percent_2         1721\n",
       "percent_1         1523\n",
       "percent_studio     128\n",
       "Num_studio         128\n",
       "Num_1_bed         1523\n",
       "Num_2_bed         1721\n",
       "Num_3_bed         1264\n",
       "Num_4_bed          158\n",
       "Price_per_sqft    1773\n",
       "dtype: int64"
      ]
     },
     "execution_count": 32,
     "metadata": {},
     "output_type": "execute_result"
    }
   ],
   "source": [
    "georgia = georgia[georgia.Price_per_sqft > 0]\n",
    "georgia = georgia[georgia.Num_units > 0]\n",
    "georgia = georgia[georgia.Price_per_sqft < 3000]\n",
    "\n",
    "georgia.count()"
   ]
  },
  {
   "cell_type": "code",
   "execution_count": null,
   "metadata": {},
   "outputs": [],
   "source": [
    "## this was a failure\n",
    "\n",
    "##for n in np.arange(len(georgia)):\n",
    "    if georgia.percent_1[n] > 0.5:\n",
    "        georgia.insert(6, 'Category', 'Mainly 1', True)\n",
    "    if georgia.percent_2[n] > 0.5:\n",
    "        georgia.insert(6, 'Category', 'Mainly 2', True)\n",
    "    if georgia.percent_3[n] > 0.5:\n",
    "        georgia.insert(6, 'Category', 'Mainly 3', True)\n",
    "    if georgia.percent_4[n] > 0.5:\n",
    "        georgia.insert(6, 'Category', 'Mainly 4', True)\n",
    "    if georgia.percent_studio[n] > 0.5:\n",
    "        georgia.insert(6, 'Category', 'Mainly Studio', True)\n",
    "    if (georgia.percent_studio[n] + georgia.percent_1[n]) > (georgia.percent_2[n] + georgia.percent_3[n]):\n",
    "        georgia.insert(6, 'Category', 'Mainly Singles', True)\n",
    "    if (georgia.percent_studio[n] + georgia.percent_1[n]) < (georgia.percent_2[n] + georgia.percent_3[n]):\n",
    "        georgia.insert(6, 'Category', 'Mainly Families', True)\n",
    "    else:\n",
    "        georgia.insert(6, 'Category', 'Mixed', True)"
   ]
  },
  {
   "cell_type": "code",
   "execution_count": 26,
   "metadata": {},
   "outputs": [],
   "source": [
    "georgia['Category'] = np.where((georgia['percent_1'] + georgia['percent_studio'])> (georgia['percent_2'] + georgia['percent_3']), 'Single', 'Family')\n"
   ]
  },
  {
   "cell_type": "code",
   "execution_count": 30,
   "metadata": {},
   "outputs": [
    {
     "data": {
      "text/html": [
       "<div>\n",
       "<style scoped>\n",
       "    .dataframe tbody tr th:only-of-type {\n",
       "        vertical-align: middle;\n",
       "    }\n",
       "\n",
       "    .dataframe tbody tr th {\n",
       "        vertical-align: top;\n",
       "    }\n",
       "\n",
       "    .dataframe thead th {\n",
       "        text-align: right;\n",
       "    }\n",
       "</style>\n",
       "<table border=\"1\" class=\"dataframe\">\n",
       "  <thead>\n",
       "    <tr style=\"text-align: right;\">\n",
       "      <th></th>\n",
       "      <th>SCAPN</th>\n",
       "      <th>PropID</th>\n",
       "      <th>City</th>\n",
       "      <th>County</th>\n",
       "      <th>Zip</th>\n",
       "      <th>Num_units</th>\n",
       "      <th>Category</th>\n",
       "      <th>percent_4</th>\n",
       "      <th>percent_3</th>\n",
       "      <th>percent_2</th>\n",
       "      <th>percent_1</th>\n",
       "      <th>percent_studio</th>\n",
       "      <th>Num_studio</th>\n",
       "      <th>Num_1_bed</th>\n",
       "      <th>Num_2_bed</th>\n",
       "      <th>Num_3_bed</th>\n",
       "      <th>Num_4_bed</th>\n",
       "      <th>Price_per_sqft</th>\n",
       "    </tr>\n",
       "  </thead>\n",
       "  <tbody>\n",
       "    <tr>\n",
       "      <th>0</th>\n",
       "      <td>GA Fulton 11-1000-0359-034</td>\n",
       "      <td>P1</td>\n",
       "      <td>Johns Creek</td>\n",
       "      <td>Fulton</td>\n",
       "      <td>300971535</td>\n",
       "      <td>210</td>\n",
       "      <td>Family</td>\n",
       "      <td>NaN</td>\n",
       "      <td>0.17619</td>\n",
       "      <td>0.466667</td>\n",
       "      <td>0.357143</td>\n",
       "      <td>NaN</td>\n",
       "      <td>NaN</td>\n",
       "      <td>75.0</td>\n",
       "      <td>98.0</td>\n",
       "      <td>37.0</td>\n",
       "      <td>NaN</td>\n",
       "      <td>180.16</td>\n",
       "    </tr>\n",
       "    <tr>\n",
       "      <th>1</th>\n",
       "      <td>GA Fulton 11-1000-0359-034</td>\n",
       "      <td>P1</td>\n",
       "      <td>Johns Creek</td>\n",
       "      <td>Fulton</td>\n",
       "      <td>300971535</td>\n",
       "      <td>210</td>\n",
       "      <td>Family</td>\n",
       "      <td>NaN</td>\n",
       "      <td>0.17619</td>\n",
       "      <td>0.466667</td>\n",
       "      <td>0.357143</td>\n",
       "      <td>NaN</td>\n",
       "      <td>NaN</td>\n",
       "      <td>75.0</td>\n",
       "      <td>98.0</td>\n",
       "      <td>37.0</td>\n",
       "      <td>NaN</td>\n",
       "      <td>142.98</td>\n",
       "    </tr>\n",
       "  </tbody>\n",
       "</table>\n",
       "</div>"
      ],
      "text/plain": [
       "                        SCAPN PropID         City  County        Zip  \\\n",
       "0  GA Fulton 11-1000-0359-034     P1  Johns Creek  Fulton  300971535   \n",
       "1  GA Fulton 11-1000-0359-034     P1  Johns Creek  Fulton  300971535   \n",
       "\n",
       "   Num_units Category  percent_4  percent_3  percent_2  percent_1  \\\n",
       "0        210   Family        NaN    0.17619   0.466667   0.357143   \n",
       "1        210   Family        NaN    0.17619   0.466667   0.357143   \n",
       "\n",
       "   percent_studio  Num_studio  Num_1_bed  Num_2_bed  Num_3_bed  Num_4_bed  \\\n",
       "0             NaN         NaN       75.0       98.0       37.0        NaN   \n",
       "1             NaN         NaN       75.0       98.0       37.0        NaN   \n",
       "\n",
       "   Price_per_sqft  \n",
       "0          180.16  \n",
       "1          142.98  "
      ]
     },
     "execution_count": 30,
     "metadata": {},
     "output_type": "execute_result"
    }
   ],
   "source": [
    "georgia = georgia.loc[:,~georgia.columns.duplicated()]\n",
    "georgia.head(2)"
   ]
  },
  {
   "cell_type": "code",
   "execution_count": 33,
   "metadata": {},
   "outputs": [
    {
     "data": {
      "text/plain": [
       "Category\n",
       "Family     71.768739\n",
       "Single    140.471000\n",
       "Name: Price_per_sqft, dtype: float64"
      ]
     },
     "execution_count": 33,
     "metadata": {},
     "output_type": "execute_result"
    }
   ],
   "source": [
    "georgia.groupby('Category')['Price_per_sqft'].mean()"
   ]
  },
  {
   "cell_type": "code",
   "execution_count": 41,
   "metadata": {},
   "outputs": [
    {
     "data": {
      "text/plain": [
       "Family    1753\n",
       "Single      20\n",
       "Name: Category, dtype: int64"
      ]
     },
     "execution_count": 41,
     "metadata": {},
     "output_type": "execute_result"
    }
   ],
   "source": [
    "georgia.Category.value_counts()"
   ]
  },
  {
   "cell_type": "code",
   "execution_count": 37,
   "metadata": {},
   "outputs": [
    {
     "data": {
      "image/png": "[encoded data removed]",
      "text/plain": [
       "<Figure size 432x288 with 1 Axes>"
      ]
     },
     "metadata": {
      "needs_background": "light"
     },
     "output_type": "display_data"
    }
   ],
   "source": [
    "plt.show()\n",
    "\n",
    "plt.scatter(georgia.Category, georgia.Price_per_sqft)\n",
    "\n",
    "plt.show()"
   ]
  },
  {
   "cell_type": "code",
   "execution_count": 69,
   "metadata": {},
   "outputs": [
    {
     "data": {
      "text/html": [
       "<div>\n",
       "<style scoped>\n",
       "    .dataframe tbody tr th:only-of-type {\n",
       "        vertical-align: middle;\n",
       "    }\n",
       "\n",
       "    .dataframe tbody tr th {\n",
       "        vertical-align: top;\n",
       "    }\n",
       "\n",
       "    .dataframe thead th {\n",
       "        text-align: right;\n",
       "    }\n",
       "</style>\n",
       "<table border=\"1\" class=\"dataframe\">\n",
       "  <thead>\n",
       "    <tr style=\"text-align: right;\">\n",
       "      <th></th>\n",
       "      <th>SCAPN</th>\n",
       "      <th>PropID</th>\n",
       "      <th>City</th>\n",
       "      <th>County</th>\n",
       "      <th>Zip</th>\n",
       "      <th>Num_units</th>\n",
       "      <th>Category</th>\n",
       "      <th>percent_4</th>\n",
       "      <th>percent_3</th>\n",
       "      <th>percent_2</th>\n",
       "      <th>percent_1</th>\n",
       "      <th>percent_studio</th>\n",
       "      <th>Num_studio</th>\n",
       "      <th>Num_1_bed</th>\n",
       "      <th>Num_2_bed</th>\n",
       "      <th>Num_3_bed</th>\n",
       "      <th>Num_4_bed</th>\n",
       "      <th>Price_per_sqft</th>\n",
       "      <th>unit_mix</th>\n",
       "    </tr>\n",
       "  </thead>\n",
       "  <tbody>\n",
       "    <tr>\n",
       "      <th>0</th>\n",
       "      <td>GA Fulton 11-1000-0359-034</td>\n",
       "      <td>P1</td>\n",
       "      <td>Johns Creek</td>\n",
       "      <td>Fulton</td>\n",
       "      <td>300971535</td>\n",
       "      <td>210</td>\n",
       "      <td>Family</td>\n",
       "      <td>0.0</td>\n",
       "      <td>0.176190</td>\n",
       "      <td>0.466667</td>\n",
       "      <td>0.357143</td>\n",
       "      <td>0.000000</td>\n",
       "      <td>NaN</td>\n",
       "      <td>75.0</td>\n",
       "      <td>98.0</td>\n",
       "      <td>37.0</td>\n",
       "      <td>NaN</td>\n",
       "      <td>180.16</td>\n",
       "      <td>0</td>\n",
       "    </tr>\n",
       "    <tr>\n",
       "      <th>1</th>\n",
       "      <td>GA Fulton 11-1000-0359-034</td>\n",
       "      <td>P1</td>\n",
       "      <td>Johns Creek</td>\n",
       "      <td>Fulton</td>\n",
       "      <td>300971535</td>\n",
       "      <td>210</td>\n",
       "      <td>Family</td>\n",
       "      <td>0.0</td>\n",
       "      <td>0.176190</td>\n",
       "      <td>0.466667</td>\n",
       "      <td>0.357143</td>\n",
       "      <td>0.000000</td>\n",
       "      <td>NaN</td>\n",
       "      <td>75.0</td>\n",
       "      <td>98.0</td>\n",
       "      <td>37.0</td>\n",
       "      <td>NaN</td>\n",
       "      <td>142.98</td>\n",
       "      <td>0</td>\n",
       "    </tr>\n",
       "    <tr>\n",
       "      <th>2</th>\n",
       "      <td>GA Fulton 17-0106-0004-032-6</td>\n",
       "      <td>P7</td>\n",
       "      <td>Atlanta</td>\n",
       "      <td>Fulton</td>\n",
       "      <td>303093948</td>\n",
       "      <td>129</td>\n",
       "      <td>Family</td>\n",
       "      <td>0.0</td>\n",
       "      <td>0.000000</td>\n",
       "      <td>0.000000</td>\n",
       "      <td>0.387597</td>\n",
       "      <td>0.612403</td>\n",
       "      <td>79.0</td>\n",
       "      <td>50.0</td>\n",
       "      <td>NaN</td>\n",
       "      <td>NaN</td>\n",
       "      <td>NaN</td>\n",
       "      <td>4.62</td>\n",
       "      <td>0</td>\n",
       "    </tr>\n",
       "    <tr>\n",
       "      <th>3</th>\n",
       "      <td>GA Fulton 17-0150-0010-019</td>\n",
       "      <td>P11</td>\n",
       "      <td>Atlanta</td>\n",
       "      <td>Fulton</td>\n",
       "      <td>303185405</td>\n",
       "      <td>197</td>\n",
       "      <td>Family</td>\n",
       "      <td>0.0</td>\n",
       "      <td>0.000000</td>\n",
       "      <td>0.172589</td>\n",
       "      <td>0.629442</td>\n",
       "      <td>0.197970</td>\n",
       "      <td>39.0</td>\n",
       "      <td>124.0</td>\n",
       "      <td>34.0</td>\n",
       "      <td>NaN</td>\n",
       "      <td>NaN</td>\n",
       "      <td>104.58</td>\n",
       "      <td>0</td>\n",
       "    </tr>\n",
       "    <tr>\n",
       "      <th>4</th>\n",
       "      <td>GA Fulton 17-0108-0001-077-2</td>\n",
       "      <td>P14</td>\n",
       "      <td>Atlanta</td>\n",
       "      <td>Fulton</td>\n",
       "      <td>303631073</td>\n",
       "      <td>146</td>\n",
       "      <td>Single</td>\n",
       "      <td>0.0</td>\n",
       "      <td>0.232877</td>\n",
       "      <td>0.219178</td>\n",
       "      <td>0.143836</td>\n",
       "      <td>0.404110</td>\n",
       "      <td>59.0</td>\n",
       "      <td>21.0</td>\n",
       "      <td>32.0</td>\n",
       "      <td>34.0</td>\n",
       "      <td>NaN</td>\n",
       "      <td>421.46</td>\n",
       "      <td>0</td>\n",
       "    </tr>\n",
       "  </tbody>\n",
       "</table>\n",
       "</div>"
      ],
      "text/plain": [
       "                          SCAPN PropID         City  County        Zip  \\\n",
       "0    GA Fulton 11-1000-0359-034     P1  Johns Creek  Fulton  300971535   \n",
       "1    GA Fulton 11-1000-0359-034     P1  Johns Creek  Fulton  300971535   \n",
       "2  GA Fulton 17-0106-0004-032-6     P7      Atlanta  Fulton  303093948   \n",
       "3    GA Fulton 17-0150-0010-019    P11      Atlanta  Fulton  303185405   \n",
       "4  GA Fulton 17-0108-0001-077-2    P14      Atlanta  Fulton  303631073   \n",
       "\n",
       "   Num_units Category  percent_4  percent_3  percent_2  percent_1  \\\n",
       "0        210   Family        0.0   0.176190   0.466667   0.357143   \n",
       "1        210   Family        0.0   0.176190   0.466667   0.357143   \n",
       "2        129   Family        0.0   0.000000   0.000000   0.387597   \n",
       "3        197   Family        0.0   0.000000   0.172589   0.629442   \n",
       "4        146   Single        0.0   0.232877   0.219178   0.143836   \n",
       "\n",
       "   percent_studio  Num_studio  Num_1_bed  Num_2_bed  Num_3_bed  Num_4_bed  \\\n",
       "0        0.000000         NaN       75.0       98.0       37.0        NaN   \n",
       "1        0.000000         NaN       75.0       98.0       37.0        NaN   \n",
       "2        0.612403        79.0       50.0        NaN        NaN        NaN   \n",
       "3        0.197970        39.0      124.0       34.0        NaN        NaN   \n",
       "4        0.404110        59.0       21.0       32.0       34.0        NaN   \n",
       "\n",
       "   Price_per_sqft  unit_mix  \n",
       "0          180.16         0  \n",
       "1          142.98         0  \n",
       "2            4.62         0  \n",
       "3          104.58         0  \n",
       "4          421.46         0  "
      ]
     },
     "execution_count": 69,
     "metadata": {},
     "output_type": "execute_result"
    }
   ],
   "source": [
    "georgia['percent_4'].fillna(0, inplace=True)\n",
    "georgia['percent_3'].fillna(0, inplace=True)\n",
    "georgia['percent_2'].fillna(0, inplace=True)\n",
    "georgia['percent_3'].fillna(0, inplace=True)\n",
    "georgia['percent_studio'].fillna(0, inplace=True)\n",
    "georgia = georgia.reset_index(drop=True)\n",
    "\n",
    "georgia.head(5)"
   ]
  },
  {
   "cell_type": "code",
   "execution_count": 70,
   "metadata": {},
   "outputs": [],
   "source": [
    "def is_category(unit_mix):  \n",
    "    if georgia.percent_1[unit_mix] > 0.45:\n",
    "        return 'Mainly 1'\n",
    "    elif georgia.percent_2[unit_mix] > 0.45:\n",
    "        return 'Mainly 2'\n",
    "    elif georgia.percent_3[unit_mix] > 0.45:\n",
    "        return 'Mainly 3'\n",
    "    elif georgia.percent_4[unit_mix] > 0.45:\n",
    "        return 'Mainly 4'\n",
    "    elif georgia.percent_studio[unit_mix] > 0.45:\n",
    "        return 'Mainly Studio'\n",
    "    else:\n",
    "        return 'Mixed'"
   ]
  },
  {
   "cell_type": "code",
   "execution_count": 74,
   "metadata": {},
   "outputs": [
    {
     "data": {
      "text/plain": [
       "'Mainly Studio'"
      ]
     },
     "execution_count": 74,
     "metadata": {},
     "output_type": "execute_result"
    }
   ],
   "source": [
    "is_category(2)"
   ]
  },
  {
   "cell_type": "code",
   "execution_count": 76,
   "metadata": {},
   "outputs": [],
   "source": [
    "georgia['unit_mix'] = np.arange(len(georgia))"
   ]
  },
  {
   "cell_type": "code",
   "execution_count": 79,
   "metadata": {},
   "outputs": [
    {
     "data": {
      "text/html": [
       "<div>\n",
       "<style scoped>\n",
       "    .dataframe tbody tr th:only-of-type {\n",
       "        vertical-align: middle;\n",
       "    }\n",
       "\n",
       "    .dataframe tbody tr th {\n",
       "        vertical-align: top;\n",
       "    }\n",
       "\n",
       "    .dataframe thead th {\n",
       "        text-align: right;\n",
       "    }\n",
       "</style>\n",
       "<table border=\"1\" class=\"dataframe\">\n",
       "  <thead>\n",
       "    <tr style=\"text-align: right;\">\n",
       "      <th></th>\n",
       "      <th>SCAPN</th>\n",
       "      <th>PropID</th>\n",
       "      <th>City</th>\n",
       "      <th>County</th>\n",
       "      <th>Zip</th>\n",
       "      <th>Num_units</th>\n",
       "      <th>Category</th>\n",
       "      <th>percent_4</th>\n",
       "      <th>percent_3</th>\n",
       "      <th>percent_2</th>\n",
       "      <th>percent_1</th>\n",
       "      <th>percent_studio</th>\n",
       "      <th>Num_studio</th>\n",
       "      <th>Num_1_bed</th>\n",
       "      <th>Num_2_bed</th>\n",
       "      <th>Num_3_bed</th>\n",
       "      <th>Num_4_bed</th>\n",
       "      <th>Price_per_sqft</th>\n",
       "      <th>unit_mix</th>\n",
       "    </tr>\n",
       "  </thead>\n",
       "  <tbody>\n",
       "    <tr>\n",
       "      <th>0</th>\n",
       "      <td>GA Fulton 11-1000-0359-034</td>\n",
       "      <td>P1</td>\n",
       "      <td>Johns Creek</td>\n",
       "      <td>Fulton</td>\n",
       "      <td>300971535</td>\n",
       "      <td>210</td>\n",
       "      <td>Family</td>\n",
       "      <td>0.0</td>\n",
       "      <td>0.176190</td>\n",
       "      <td>0.466667</td>\n",
       "      <td>0.357143</td>\n",
       "      <td>0.000000</td>\n",
       "      <td>NaN</td>\n",
       "      <td>75.0</td>\n",
       "      <td>98.0</td>\n",
       "      <td>37.0</td>\n",
       "      <td>NaN</td>\n",
       "      <td>180.16</td>\n",
       "      <td>Mainly 2</td>\n",
       "    </tr>\n",
       "    <tr>\n",
       "      <th>1</th>\n",
       "      <td>GA Fulton 11-1000-0359-034</td>\n",
       "      <td>P1</td>\n",
       "      <td>Johns Creek</td>\n",
       "      <td>Fulton</td>\n",
       "      <td>300971535</td>\n",
       "      <td>210</td>\n",
       "      <td>Family</td>\n",
       "      <td>0.0</td>\n",
       "      <td>0.176190</td>\n",
       "      <td>0.466667</td>\n",
       "      <td>0.357143</td>\n",
       "      <td>0.000000</td>\n",
       "      <td>NaN</td>\n",
       "      <td>75.0</td>\n",
       "      <td>98.0</td>\n",
       "      <td>37.0</td>\n",
       "      <td>NaN</td>\n",
       "      <td>142.98</td>\n",
       "      <td>Mainly 2</td>\n",
       "    </tr>\n",
       "    <tr>\n",
       "      <th>2</th>\n",
       "      <td>GA Fulton 17-0106-0004-032-6</td>\n",
       "      <td>P7</td>\n",
       "      <td>Atlanta</td>\n",
       "      <td>Fulton</td>\n",
       "      <td>303093948</td>\n",
       "      <td>129</td>\n",
       "      <td>Family</td>\n",
       "      <td>0.0</td>\n",
       "      <td>0.000000</td>\n",
       "      <td>0.000000</td>\n",
       "      <td>0.387597</td>\n",
       "      <td>0.612403</td>\n",
       "      <td>79.0</td>\n",
       "      <td>50.0</td>\n",
       "      <td>NaN</td>\n",
       "      <td>NaN</td>\n",
       "      <td>NaN</td>\n",
       "      <td>4.62</td>\n",
       "      <td>Mainly Studio</td>\n",
       "    </tr>\n",
       "    <tr>\n",
       "      <th>3</th>\n",
       "      <td>GA Fulton 17-0150-0010-019</td>\n",
       "      <td>P11</td>\n",
       "      <td>Atlanta</td>\n",
       "      <td>Fulton</td>\n",
       "      <td>303185405</td>\n",
       "      <td>197</td>\n",
       "      <td>Family</td>\n",
       "      <td>0.0</td>\n",
       "      <td>0.000000</td>\n",
       "      <td>0.172589</td>\n",
       "      <td>0.629442</td>\n",
       "      <td>0.197970</td>\n",
       "      <td>39.0</td>\n",
       "      <td>124.0</td>\n",
       "      <td>34.0</td>\n",
       "      <td>NaN</td>\n",
       "      <td>NaN</td>\n",
       "      <td>104.58</td>\n",
       "      <td>Mainly 1</td>\n",
       "    </tr>\n",
       "    <tr>\n",
       "      <th>4</th>\n",
       "      <td>GA Fulton 17-0108-0001-077-2</td>\n",
       "      <td>P14</td>\n",
       "      <td>Atlanta</td>\n",
       "      <td>Fulton</td>\n",
       "      <td>303631073</td>\n",
       "      <td>146</td>\n",
       "      <td>Single</td>\n",
       "      <td>0.0</td>\n",
       "      <td>0.232877</td>\n",
       "      <td>0.219178</td>\n",
       "      <td>0.143836</td>\n",
       "      <td>0.404110</td>\n",
       "      <td>59.0</td>\n",
       "      <td>21.0</td>\n",
       "      <td>32.0</td>\n",
       "      <td>34.0</td>\n",
       "      <td>NaN</td>\n",
       "      <td>421.46</td>\n",
       "      <td>Mixed</td>\n",
       "    </tr>\n",
       "  </tbody>\n",
       "</table>\n",
       "</div>"
      ],
      "text/plain": [
       "                          SCAPN PropID         City  County        Zip  \\\n",
       "0    GA Fulton 11-1000-0359-034     P1  Johns Creek  Fulton  300971535   \n",
       "1    GA Fulton 11-1000-0359-034     P1  Johns Creek  Fulton  300971535   \n",
       "2  GA Fulton 17-0106-0004-032-6     P7      Atlanta  Fulton  303093948   \n",
       "3    GA Fulton 17-0150-0010-019    P11      Atlanta  Fulton  303185405   \n",
       "4  GA Fulton 17-0108-0001-077-2    P14      Atlanta  Fulton  303631073   \n",
       "\n",
       "   Num_units Category  percent_4  percent_3  percent_2  percent_1  \\\n",
       "0        210   Family        0.0   0.176190   0.466667   0.357143   \n",
       "1        210   Family        0.0   0.176190   0.466667   0.357143   \n",
       "2        129   Family        0.0   0.000000   0.000000   0.387597   \n",
       "3        197   Family        0.0   0.000000   0.172589   0.629442   \n",
       "4        146   Single        0.0   0.232877   0.219178   0.143836   \n",
       "\n",
       "   percent_studio  Num_studio  Num_1_bed  Num_2_bed  Num_3_bed  Num_4_bed  \\\n",
       "0        0.000000         NaN       75.0       98.0       37.0        NaN   \n",
       "1        0.000000         NaN       75.0       98.0       37.0        NaN   \n",
       "2        0.612403        79.0       50.0        NaN        NaN        NaN   \n",
       "3        0.197970        39.0      124.0       34.0        NaN        NaN   \n",
       "4        0.404110        59.0       21.0       32.0       34.0        NaN   \n",
       "\n",
       "   Price_per_sqft       unit_mix  \n",
       "0          180.16       Mainly 2  \n",
       "1          142.98       Mainly 2  \n",
       "2            4.62  Mainly Studio  \n",
       "3          104.58       Mainly 1  \n",
       "4          421.46          Mixed  "
      ]
     },
     "execution_count": 79,
     "metadata": {},
     "output_type": "execute_result"
    }
   ],
   "source": [
    "georgia['unit_mix'] = georgia['unit_mix'].apply(is_category)\n",
    "georgia.head()"
   ]
  },
  {
   "cell_type": "code",
   "execution_count": 80,
   "metadata": {},
   "outputs": [
    {
     "data": {
      "text/plain": [
       "unit_mix\n",
       "Mainly 1          93.884656\n",
       "Mainly 2          62.781218\n",
       "Mainly 3         114.832500\n",
       "Mainly 4          82.325500\n",
       "Mainly Studio     20.910000\n",
       "Mixed             68.201675\n",
       "Name: Price_per_sqft, dtype: float64"
      ]
     },
     "execution_count": 80,
     "metadata": {},
     "output_type": "execute_result"
    }
   ],
   "source": [
    "georgia.groupby('unit_mix')['Price_per_sqft'].mean()"
   ]
  },
  {
   "cell_type": "code",
   "execution_count": 252,
   "metadata": {},
   "outputs": [],
   "source": [
    "one_bed = georgia.Price_per_sqft[georgia.unit_mix == 'Mainly 1']\n",
    "two_bed = georgia.Price_per_sqft[georgia.unit_mix == 'Mainly 2']\n",
    "three_bed = georgia.Price_per_sqft[georgia.unit_mix == 'Mainly 3']\n",
    "four_bed = georgia.Price_per_sqft[georgia.unit_mix == 'Mainly 4']\n",
    "studio = georgia.Price_per_sqft[georgia.unit_mix == 'Mainly Studio']\n",
    "mixed_bed = georgia.Price_per_sqft[georgia.unit_mix == 'Mixed']"
   ]
  },
  {
   "cell_type": "code",
   "execution_count": 92,
   "metadata": {},
   "outputs": [
    {
     "data": {
      "image/png": "[encoded data removed]",
      "text/plain": [
       "<Figure size 432x288 with 1 Axes>"
      ]
     },
     "metadata": {
      "needs_background": "light"
     },
     "output_type": "display_data"
    }
   ],
   "source": [
    "plt.figure()\n",
    "\n",
    "plt.boxplot((one_bed, two_bed, three_bed, four_bed, studio))\n",
    "\n",
    "plt.show()"
   ]
  },
  {
   "cell_type": "code",
   "execution_count": 253,
   "metadata": {},
   "outputs": [
    {
     "data": {
      "image/png": "[encoded data removed]",
      "text/plain": [
       "<Figure size 720x432 with 1 Axes>"
      ]
     },
     "metadata": {
      "needs_background": "light"
     },
     "output_type": "display_data"
    }
   ],
   "source": [
    "plt.figure(figsize = (10,6))\n",
    "\n",
    "box = plt.boxplot((one_bed, two_bed, three_bed, four_bed, studio, mixed_bed),\n",
    "           labels = (('Mainly One', 'Mainly Two', 'Mainly Three', 'Mainly Four', 'Mainly Studios', 'Mixed')), patch_artist = True)\n",
    "\n",
    "colors = ['lightcoral', 'navajowhite', 'cornflowerblue', 'lightgreen', 'pink', 'orchid', 'lavender']\n",
    "for patch, color in zip(box['boxes'], colors):\n",
    "    patch.set_facecolor(color)\n",
    "\n",
    "plt.ylim((-5,500))\n",
    "\n",
    "plt.title('Price per Sqft of Different Unit Mixes in Georgia', fontsize = 14)\n",
    "plt.ylabel('Price per sqft', fontsize = 12)\n",
    "plt.xlabel('Unit Mixes', fontsize = 12)\n",
    "\n",
    "plt.show()"
   ]
  },
  {
   "cell_type": "code",
   "execution_count": 126,
   "metadata": {},
   "outputs": [
    {
     "data": {
      "text/html": [
       "<div>\n",
       "<style scoped>\n",
       "    .dataframe tbody tr th:only-of-type {\n",
       "        vertical-align: middle;\n",
       "    }\n",
       "\n",
       "    .dataframe tbody tr th {\n",
       "        vertical-align: top;\n",
       "    }\n",
       "\n",
       "    .dataframe thead th {\n",
       "        text-align: right;\n",
       "    }\n",
       "</style>\n",
       "<table border=\"1\" class=\"dataframe\">\n",
       "  <thead>\n",
       "    <tr style=\"text-align: right;\">\n",
       "      <th></th>\n",
       "      <th>One Bedroom</th>\n",
       "      <th>Two Bedroom</th>\n",
       "      <th>Three Bedroom</th>\n",
       "      <th>Four Bedroom</th>\n",
       "      <th>Studio</th>\n",
       "      <th>unit_mix</th>\n",
       "      <th>Price per sqft</th>\n",
       "    </tr>\n",
       "  </thead>\n",
       "  <tbody>\n",
       "    <tr>\n",
       "      <th>0</th>\n",
       "      <td>0.357143</td>\n",
       "      <td>0.466667</td>\n",
       "      <td>0.17619</td>\n",
       "      <td>0.0</td>\n",
       "      <td>0.000000</td>\n",
       "      <td>Mainly 2</td>\n",
       "      <td>180.16</td>\n",
       "    </tr>\n",
       "    <tr>\n",
       "      <th>1</th>\n",
       "      <td>0.357143</td>\n",
       "      <td>0.466667</td>\n",
       "      <td>0.17619</td>\n",
       "      <td>0.0</td>\n",
       "      <td>0.000000</td>\n",
       "      <td>Mainly 2</td>\n",
       "      <td>142.98</td>\n",
       "    </tr>\n",
       "    <tr>\n",
       "      <th>2</th>\n",
       "      <td>0.387597</td>\n",
       "      <td>0.000000</td>\n",
       "      <td>0.00000</td>\n",
       "      <td>0.0</td>\n",
       "      <td>0.612403</td>\n",
       "      <td>Mainly Studio</td>\n",
       "      <td>4.62</td>\n",
       "    </tr>\n",
       "  </tbody>\n",
       "</table>\n",
       "</div>"
      ],
      "text/plain": [
       "   One Bedroom  Two Bedroom  Three Bedroom  Four Bedroom    Studio  \\\n",
       "0     0.357143     0.466667        0.17619           0.0  0.000000   \n",
       "1     0.357143     0.466667        0.17619           0.0  0.000000   \n",
       "2     0.387597     0.000000        0.00000           0.0  0.612403   \n",
       "\n",
       "        unit_mix  Price per sqft  \n",
       "0       Mainly 2          180.16  \n",
       "1       Mainly 2          142.98  \n",
       "2  Mainly Studio            4.62  "
      ]
     },
     "execution_count": 126,
     "metadata": {},
     "output_type": "execute_result"
    }
   ],
   "source": [
    "units_mixed = pd.DataFrame(list(zip(georgia.percent_1,georgia.percent_2, georgia.percent_3, georgia.percent_4, georgia.percent_studio, georgia.unit_mix, georgia.Price_per_sqft)), \n",
    "                           columns = ['One Bedroom', 'Two Bedroom', 'Three Bedroom', 'Four Bedroom', 'Studio', 'unit_mix', 'Price per sqft'])\n",
    "units_mixed.head(3)\n"
   ]
  },
  {
   "cell_type": "code",
   "execution_count": 157,
   "metadata": {},
   "outputs": [
    {
     "data": {
      "text/plain": [
       "0     93.884656\n",
       "1     62.781218\n",
       "2    114.832500\n",
       "3     82.325500\n",
       "4     20.910000\n",
       "5     68.201675\n",
       "Name: Price_per_sqft, dtype: float64"
      ]
     },
     "execution_count": 157,
     "metadata": {},
     "output_type": "execute_result"
    }
   ],
   "source": [
    "group_mix = georgia.groupby('unit_mix')['Price_per_sqft'].mean()\n",
    "mix_labels = ['Mainly 1', 'Mainly 2','Mainly 3','Mainly 4','Mainly Studio', 'Mixed']\n",
    "treemap_mix = pd.DataFrame(list(zip(mix_labels, group_mix)), columns = ['Category', 'Price_per_sqft'])\n",
    "treemap_mix['Price_per_sqft']"
   ]
  },
  {
   "cell_type": "code",
   "execution_count": 263,
   "metadata": {},
   "outputs": [
    {
     "data": {
      "image/png": "[encoded data removed]",
      "text/plain": [
       "<Figure size 432x288 with 1 Axes>"
      ]
     },
     "metadata": {
      "needs_background": "light"
     },
     "output_type": "display_data"
    }
   ],
   "source": [
    "squarify.plot(sizes = treemap_mix['Price_per_sqft'], label = treemap_mix['Category'], \n",
    "              alpha=.8, color = ['lightcoral', 'navajowhite', 'cornflowerblue', 'lightgreen', 'pink', 'orchid'])\n",
    "plt.title('Avg Price per Sqft of Different Unit Mixes in Georgia')\n",
    "plt.axis('off')\n",
    "plt.show()\n"
   ]
  },
  {
   "cell_type": "code",
   "execution_count": 187,
   "metadata": {},
   "outputs": [
    {
     "data": {
      "image/png": "[encoded data removed]",
      "text/plain": [
       "<Figure size 720x432 with 1 Axes>"
      ]
     },
     "metadata": {
      "needs_background": "light"
     },
     "output_type": "display_data"
    }
   ],
   "source": [
    "plt.figure(figsize = (10,6))\n",
    "\n",
    "plt.bar(treemap_mix['Category'], treemap_mix['Price_per_sqft'], \n",
    "        color = ['lightcoral', 'navajowhite', 'cornflowerblue', 'lightgreen', 'pink', 'orchid'])\n",
    "\n",
    "plt.title(\"Average Price per Sqft for Different Unit Mixes in Georgia\")\n",
    "plt.ylabel(\"Avg Price per Sqft\")\n",
    "\n",
    "plt.show()"
   ]
  },
  {
   "cell_type": "code",
   "execution_count": 217,
   "metadata": {},
   "outputs": [],
   "source": [
    "florida = pd.read_csv('Florida_all_data.csv')"
   ]
  },
  {
   "cell_type": "code",
   "execution_count": 218,
   "metadata": {},
   "outputs": [],
   "source": [
    "florida = florida[['SCAPN', 'PropID', 'City', 'County', 'Zip', 'Num_units', 'Num_studio', 'Num_1_bed', 'Num_2_bed','Num_3_bed', 'Num_4_bed', 'Price_per_sqft']]"
   ]
  },
  {
   "cell_type": "code",
   "execution_count": 219,
   "metadata": {},
   "outputs": [],
   "source": [
    "florida.insert(6, 'percent_1', florida['Num_1_bed']/florida['Num_units'], True)\n",
    "florida.insert(6, 'percent_2', florida['Num_2_bed']/florida['Num_units'], True)\n",
    "florida.insert(6, 'percent_3', florida['Num_3_bed']/florida['Num_units'], True)\n",
    "florida.insert(6, 'percent_4', florida['Num_4_bed']/florida['Num_units'], True)\n",
    "florida.insert(6, 'percent_studio', florida['Num_studio']/florida['Num_units'], True)"
   ]
  },
  {
   "cell_type": "code",
   "execution_count": 220,
   "metadata": {},
   "outputs": [
    {
     "data": {
      "text/html": [
       "<div>\n",
       "<style scoped>\n",
       "    .dataframe tbody tr th:only-of-type {\n",
       "        vertical-align: middle;\n",
       "    }\n",
       "\n",
       "    .dataframe tbody tr th {\n",
       "        vertical-align: top;\n",
       "    }\n",
       "\n",
       "    .dataframe thead th {\n",
       "        text-align: right;\n",
       "    }\n",
       "</style>\n",
       "<table border=\"1\" class=\"dataframe\">\n",
       "  <thead>\n",
       "    <tr style=\"text-align: right;\">\n",
       "      <th></th>\n",
       "      <th>SCAPN</th>\n",
       "      <th>PropID</th>\n",
       "      <th>City</th>\n",
       "      <th>County</th>\n",
       "      <th>Zip</th>\n",
       "      <th>Num_units</th>\n",
       "      <th>percent_studio</th>\n",
       "      <th>percent_4</th>\n",
       "      <th>percent_3</th>\n",
       "      <th>percent_2</th>\n",
       "      <th>percent_1</th>\n",
       "      <th>Num_studio</th>\n",
       "      <th>Num_1_bed</th>\n",
       "      <th>Num_2_bed</th>\n",
       "      <th>Num_3_bed</th>\n",
       "      <th>Num_4_bed</th>\n",
       "      <th>Price_per_sqft</th>\n",
       "    </tr>\n",
       "  </thead>\n",
       "  <tbody>\n",
       "    <tr>\n",
       "      <th>0</th>\n",
       "      <td>FL Pinellas 34-29-15-50256-001-0010</td>\n",
       "      <td>P2828</td>\n",
       "      <td>Largo</td>\n",
       "      <td>Pinellas</td>\n",
       "      <td>337703328</td>\n",
       "      <td>123</td>\n",
       "      <td>NaN</td>\n",
       "      <td>NaN</td>\n",
       "      <td>NaN</td>\n",
       "      <td>NaN</td>\n",
       "      <td>1.000000</td>\n",
       "      <td>NaN</td>\n",
       "      <td>123.0</td>\n",
       "      <td>NaN</td>\n",
       "      <td>NaN</td>\n",
       "      <td>NaN</td>\n",
       "      <td>NaN</td>\n",
       "    </tr>\n",
       "    <tr>\n",
       "      <th>1</th>\n",
       "      <td>FL Pinellas 24-31-16-29718-013-0150</td>\n",
       "      <td>P2829</td>\n",
       "      <td>Saint Petersburg</td>\n",
       "      <td>Pinellas</td>\n",
       "      <td>337138934</td>\n",
       "      <td>251</td>\n",
       "      <td>0.278884</td>\n",
       "      <td>NaN</td>\n",
       "      <td>0.119522</td>\n",
       "      <td>0.231076</td>\n",
       "      <td>0.370518</td>\n",
       "      <td>70.0</td>\n",
       "      <td>93.0</td>\n",
       "      <td>58.0</td>\n",
       "      <td>30.0</td>\n",
       "      <td>NaN</td>\n",
       "      <td>NaN</td>\n",
       "    </tr>\n",
       "  </tbody>\n",
       "</table>\n",
       "</div>"
      ],
      "text/plain": [
       "                                 SCAPN PropID              City    County  \\\n",
       "0  FL Pinellas 34-29-15-50256-001-0010  P2828             Largo  Pinellas   \n",
       "1  FL Pinellas 24-31-16-29718-013-0150  P2829  Saint Petersburg  Pinellas   \n",
       "\n",
       "         Zip  Num_units  percent_studio  percent_4  percent_3  percent_2  \\\n",
       "0  337703328        123             NaN        NaN        NaN        NaN   \n",
       "1  337138934        251        0.278884        NaN   0.119522   0.231076   \n",
       "\n",
       "   percent_1  Num_studio  Num_1_bed  Num_2_bed  Num_3_bed  Num_4_bed  \\\n",
       "0   1.000000         NaN      123.0        NaN        NaN        NaN   \n",
       "1   0.370518        70.0       93.0       58.0       30.0        NaN   \n",
       "\n",
       "   Price_per_sqft  \n",
       "0             NaN  \n",
       "1             NaN  "
      ]
     },
     "execution_count": 220,
     "metadata": {},
     "output_type": "execute_result"
    }
   ],
   "source": [
    "florida.head(2)"
   ]
  },
  {
   "cell_type": "code",
   "execution_count": 221,
   "metadata": {},
   "outputs": [
    {
     "data": {
      "text/plain": [
       "SCAPN             2920\n",
       "PropID            2920\n",
       "City              2920\n",
       "County            2920\n",
       "Zip               2920\n",
       "Num_units         2920\n",
       "percent_studio     363\n",
       "percent_4          211\n",
       "percent_3         1768\n",
       "percent_2         2621\n",
       "percent_1         2481\n",
       "Num_studio         363\n",
       "Num_1_bed         2481\n",
       "Num_2_bed         2621\n",
       "Num_3_bed         1768\n",
       "Num_4_bed          211\n",
       "Price_per_sqft    2920\n",
       "dtype: int64"
      ]
     },
     "execution_count": 221,
     "metadata": {},
     "output_type": "execute_result"
    }
   ],
   "source": [
    "florida = florida[florida.Price_per_sqft > 0]\n",
    "florida = florida[florida.Price_per_sqft < 5000]\n",
    "\n",
    "florida.count()"
   ]
  },
  {
   "cell_type": "code",
   "execution_count": 222,
   "metadata": {},
   "outputs": [
    {
     "data": {
      "text/html": [
       "<div>\n",
       "<style scoped>\n",
       "    .dataframe tbody tr th:only-of-type {\n",
       "        vertical-align: middle;\n",
       "    }\n",
       "\n",
       "    .dataframe tbody tr th {\n",
       "        vertical-align: top;\n",
       "    }\n",
       "\n",
       "    .dataframe thead th {\n",
       "        text-align: right;\n",
       "    }\n",
       "</style>\n",
       "<table border=\"1\" class=\"dataframe\">\n",
       "  <thead>\n",
       "    <tr style=\"text-align: right;\">\n",
       "      <th></th>\n",
       "      <th>SCAPN</th>\n",
       "      <th>PropID</th>\n",
       "      <th>City</th>\n",
       "      <th>County</th>\n",
       "      <th>Zip</th>\n",
       "      <th>Num_units</th>\n",
       "      <th>percent_studio</th>\n",
       "      <th>percent_4</th>\n",
       "      <th>percent_3</th>\n",
       "      <th>percent_2</th>\n",
       "      <th>percent_1</th>\n",
       "      <th>Num_studio</th>\n",
       "      <th>Num_1_bed</th>\n",
       "      <th>Num_2_bed</th>\n",
       "      <th>Num_3_bed</th>\n",
       "      <th>Num_4_bed</th>\n",
       "      <th>Price_per_sqft</th>\n",
       "    </tr>\n",
       "  </thead>\n",
       "  <tbody>\n",
       "    <tr>\n",
       "      <th>0</th>\n",
       "      <td>FL Pinellas 19-31-17-74466-011-0090</td>\n",
       "      <td>P2837</td>\n",
       "      <td>Saint Petersburg</td>\n",
       "      <td>Pinellas</td>\n",
       "      <td>337014242</td>\n",
       "      <td>309</td>\n",
       "      <td>0.003236</td>\n",
       "      <td>0.0</td>\n",
       "      <td>0.000000</td>\n",
       "      <td>0.291262</td>\n",
       "      <td>0.705502</td>\n",
       "      <td>1.0</td>\n",
       "      <td>218.0</td>\n",
       "      <td>90.0</td>\n",
       "      <td>NaN</td>\n",
       "      <td>NaN</td>\n",
       "      <td>277.96</td>\n",
       "    </tr>\n",
       "    <tr>\n",
       "      <th>1</th>\n",
       "      <td>FL Pinellas 19-31-17-78428-002-0010</td>\n",
       "      <td>P2838</td>\n",
       "      <td>Saint Petersburg</td>\n",
       "      <td>Pinellas</td>\n",
       "      <td>337013294</td>\n",
       "      <td>326</td>\n",
       "      <td>0.110429</td>\n",
       "      <td>0.0</td>\n",
       "      <td>0.021472</td>\n",
       "      <td>0.380368</td>\n",
       "      <td>0.487730</td>\n",
       "      <td>36.0</td>\n",
       "      <td>159.0</td>\n",
       "      <td>124.0</td>\n",
       "      <td>7.0</td>\n",
       "      <td>NaN</td>\n",
       "      <td>152.81</td>\n",
       "    </tr>\n",
       "    <tr>\n",
       "      <th>2</th>\n",
       "      <td>FL Pinellas 19-31-17-78428-002-0010</td>\n",
       "      <td>P2838</td>\n",
       "      <td>Saint Petersburg</td>\n",
       "      <td>Pinellas</td>\n",
       "      <td>337013294</td>\n",
       "      <td>326</td>\n",
       "      <td>0.110429</td>\n",
       "      <td>0.0</td>\n",
       "      <td>0.021472</td>\n",
       "      <td>0.380368</td>\n",
       "      <td>0.487730</td>\n",
       "      <td>36.0</td>\n",
       "      <td>159.0</td>\n",
       "      <td>124.0</td>\n",
       "      <td>7.0</td>\n",
       "      <td>NaN</td>\n",
       "      <td>56.01</td>\n",
       "    </tr>\n",
       "  </tbody>\n",
       "</table>\n",
       "</div>"
      ],
      "text/plain": [
       "                                 SCAPN PropID              City    County  \\\n",
       "0  FL Pinellas 19-31-17-74466-011-0090  P2837  Saint Petersburg  Pinellas   \n",
       "1  FL Pinellas 19-31-17-78428-002-0010  P2838  Saint Petersburg  Pinellas   \n",
       "2  FL Pinellas 19-31-17-78428-002-0010  P2838  Saint Petersburg  Pinellas   \n",
       "\n",
       "         Zip  Num_units  percent_studio  percent_4  percent_3  percent_2  \\\n",
       "0  337014242        309        0.003236        0.0   0.000000   0.291262   \n",
       "1  337013294        326        0.110429        0.0   0.021472   0.380368   \n",
       "2  337013294        326        0.110429        0.0   0.021472   0.380368   \n",
       "\n",
       "   percent_1  Num_studio  Num_1_bed  Num_2_bed  Num_3_bed  Num_4_bed  \\\n",
       "0   0.705502         1.0      218.0       90.0        NaN        NaN   \n",
       "1   0.487730        36.0      159.0      124.0        7.0        NaN   \n",
       "2   0.487730        36.0      159.0      124.0        7.0        NaN   \n",
       "\n",
       "   Price_per_sqft  \n",
       "0          277.96  \n",
       "1          152.81  \n",
       "2           56.01  "
      ]
     },
     "execution_count": 222,
     "metadata": {},
     "output_type": "execute_result"
    }
   ],
   "source": [
    "florida['percent_4'].fillna(0, inplace=True)\n",
    "florida['percent_3'].fillna(0, inplace=True)\n",
    "florida['percent_2'].fillna(0, inplace=True)\n",
    "florida['percent_3'].fillna(0, inplace=True)\n",
    "florida['percent_studio'].fillna(0, inplace=True)\n",
    "florida = florida.reset_index(drop=True)\n",
    "\n",
    "florida.head(3)"
   ]
  },
  {
   "cell_type": "code",
   "execution_count": 223,
   "metadata": {},
   "outputs": [],
   "source": [
    "def iscategory(unit_mix):  \n",
    "    if florida.percent_1[unit_mix] > 0.45:\n",
    "        return 'Mainly 1'\n",
    "    elif florida.percent_2[unit_mix] > 0.45:\n",
    "        return 'Mainly 2'\n",
    "    elif florida.percent_3[unit_mix] > 0.45:\n",
    "        return 'Mainly 3'\n",
    "    elif florida.percent_4[unit_mix] > 0.45:\n",
    "        return 'Mainly 4'\n",
    "    elif florida.percent_studio[unit_mix] > 0.45:\n",
    "        return 'Mainly Studio'\n",
    "    else:\n",
    "        return 'Mixed'"
   ]
  },
  {
   "cell_type": "code",
   "execution_count": 224,
   "metadata": {},
   "outputs": [],
   "source": [
    "florida['unit_mix'] = np.arange(len(florida))\n",
    "florida['unit_mix'] = florida['unit_mix'].apply(iscategory)\n"
   ]
  },
  {
   "cell_type": "code",
   "execution_count": 247,
   "metadata": {},
   "outputs": [],
   "source": [
    "onebed = florida.Price_per_sqft[florida.unit_mix == 'Mainly 1']\n",
    "twobed = florida.Price_per_sqft[florida.unit_mix == 'Mainly 2']\n",
    "threebed = florida.Price_per_sqft[florida.unit_mix == 'Mainly 3']\n",
    "fourbed = florida.Price_per_sqft[florida.unit_mix == 'Mainly 4']\n",
    "stud = florida.Price_per_sqft[florida.unit_mix == 'Mainly Studio']\n",
    "mixed = florida.Price_per_sqft[florida.unit_mix == 'Mixed']"
   ]
  },
  {
   "cell_type": "code",
   "execution_count": 226,
   "metadata": {},
   "outputs": [
    {
     "data": {
      "text/plain": [
       "unit_mix\n",
       "Mainly 1         110.402508\n",
       "Mainly 2          90.081222\n",
       "Mainly 3          58.325455\n",
       "Mainly 4         114.434468\n",
       "Mainly Studio    120.697692\n",
       "Mixed            345.040747\n",
       "Name: Price_per_sqft, dtype: float64"
      ]
     },
     "execution_count": 226,
     "metadata": {},
     "output_type": "execute_result"
    }
   ],
   "source": [
    "florida.groupby('unit_mix')['Price_per_sqft'].mean()"
   ]
  },
  {
   "cell_type": "code",
   "execution_count": 227,
   "metadata": {},
   "outputs": [
    {
     "data": {
      "text/plain": [
       "unit_mix\n",
       "Mainly 1         204.804367\n",
       "Mainly 2         100.314099\n",
       "Mainly 3          43.788497\n",
       "Mainly 4          68.132722\n",
       "Mainly Studio    109.411725\n",
       "Mixed            697.394843\n",
       "Name: Price_per_sqft, dtype: float64"
      ]
     },
     "execution_count": 227,
     "metadata": {},
     "output_type": "execute_result"
    }
   ],
   "source": [
    "florida.groupby('unit_mix')['Price_per_sqft'].std()"
   ]
  },
  {
   "cell_type": "code",
   "execution_count": 248,
   "metadata": {},
   "outputs": [
    {
     "data": {
      "image/png": "[encoded data removed]",
      "text/plain": [
       "<Figure size 432x288 with 1 Axes>"
      ]
     },
     "metadata": {
      "needs_background": "light"
     },
     "output_type": "display_data"
    }
   ],
   "source": [
    "plt.figure()\n",
    "\n",
    "box = plt.boxplot((onebed, twobed, threebed, fourbed, stud, mixed),\n",
    "           labels = (('Mainly One', 'Mainly Two', 'Mainly Three', 'Mainly Four', 'Mainly Studios', 'Mixed')), patch_artist = True)\n",
    "\n",
    "colors = ['lightcoral', 'navajowhite', 'cornflowerblue', 'lightgreen', 'pink', 'orchid', 'lavender']\n",
    "for patch, color in zip(box['boxes'], colors):\n",
    "    patch.set_facecolor(color)\n",
    "    \n",
    "plt.show()"
   ]
  },
  {
   "cell_type": "code",
   "execution_count": 249,
   "metadata": {},
   "outputs": [
    {
     "data": {
      "image/png": "[encoded data removed]",
      "text/plain": [
       "<Figure size 864x576 with 1 Axes>"
      ]
     },
     "metadata": {
      "needs_background": "light"
     },
     "output_type": "display_data"
    }
   ],
   "source": [
    "plt.figure(figsize = (12,8))\n",
    "\n",
    "box = plt.boxplot((onebed, twobed, threebed, fourbed, stud, mixed),\n",
    "           labels = (('Mainly One', 'Mainly Two', 'Mainly Three', 'Mainly Four', 'Mainly Studios', 'Mixed')), patch_artist = True)\n",
    "\n",
    "colors = ['lightcoral', 'navajowhite', 'cornflowerblue', 'lightgreen', 'pink', 'orchid', 'lavender']\n",
    "for patch, color in zip(box['boxes'], colors):\n",
    "    patch.set_facecolor(color)\n",
    "    \n",
    "plt.ylim((-10,1000))\n",
    "plt.title(\"Price per Sqft of Different Unit Mixes in Florida\")\n",
    "plt.ylabel(\"Price per sqft\")\n",
    "    \n",
    "plt.show()"
   ]
  },
  {
   "cell_type": "code",
   "execution_count": 251,
   "metadata": {},
   "outputs": [
    {
     "data": {
      "image/png": "[encoded data removed]",
      "text/plain": [
       "<Figure size 864x576 with 1 Axes>"
      ]
     },
     "metadata": {
      "needs_background": "light"
     },
     "output_type": "display_data"
    }
   ],
   "source": [
    "plt.figure(figsize = (12,8))\n",
    "\n",
    "box = plt.boxplot((onebed, twobed, threebed, fourbed, stud, mixed),\n",
    "           labels = (('Mainly One', 'Mainly Two', 'Mainly Three', 'Mainly Four', 'Mainly Studios', 'Mixed')), patch_artist = True)\n",
    "\n",
    "colors = ['lightcoral', 'navajowhite', 'cornflowerblue', 'lightgreen', 'pink', 'orchid', 'lavender']\n",
    "for patch, color in zip(box['boxes'], colors):\n",
    "    patch.set_facecolor(color)\n",
    "    \n",
    "plt.ylim((-10,500))\n",
    "plt.title(\"Price per Sqft of Different Unit Mixes in Florida\")\n",
    "plt.ylabel(\"Price per sqft\")\n",
    "    \n",
    "plt.show()"
   ]
  },
  {
   "cell_type": "code",
   "execution_count": 216,
   "metadata": {},
   "outputs": [],
   "source": [
    "texas = pd.read_csv('Texas_all_data.csv')\n",
    "texas = texas[['SCAPN', 'PropID', 'City', 'County', 'Zip', 'Num_units', 'Num_studio', 'Num_1_bed', 'Num_2_bed','Num_3_bed', 'Num_4_bed', 'Price_per_sqft']]"
   ]
  },
  {
   "cell_type": "code",
   "execution_count": 230,
   "metadata": {},
   "outputs": [
    {
     "data": {
      "text/html": [
       "<div>\n",
       "<style scoped>\n",
       "    .dataframe tbody tr th:only-of-type {\n",
       "        vertical-align: middle;\n",
       "    }\n",
       "\n",
       "    .dataframe tbody tr th {\n",
       "        vertical-align: top;\n",
       "    }\n",
       "\n",
       "    .dataframe thead th {\n",
       "        text-align: right;\n",
       "    }\n",
       "</style>\n",
       "<table border=\"1\" class=\"dataframe\">\n",
       "  <thead>\n",
       "    <tr style=\"text-align: right;\">\n",
       "      <th></th>\n",
       "      <th>SCAPN</th>\n",
       "      <th>PropID</th>\n",
       "      <th>City</th>\n",
       "      <th>County</th>\n",
       "      <th>Zip</th>\n",
       "      <th>Num_units</th>\n",
       "      <th>percent_studio</th>\n",
       "      <th>percent_4</th>\n",
       "      <th>percent_3</th>\n",
       "      <th>percent_2</th>\n",
       "      <th>percent_1</th>\n",
       "      <th>Num_studio</th>\n",
       "      <th>Num_1_bed</th>\n",
       "      <th>Num_2_bed</th>\n",
       "      <th>Num_3_bed</th>\n",
       "      <th>Num_4_bed</th>\n",
       "      <th>Price_per_sqft</th>\n",
       "    </tr>\n",
       "  </thead>\n",
       "  <tbody>\n",
       "    <tr>\n",
       "      <th>0</th>\n",
       "      <td>TX Bexar 00273-002-0011</td>\n",
       "      <td>P10570</td>\n",
       "      <td>San Antonio</td>\n",
       "      <td>Bexar</td>\n",
       "      <td>78207</td>\n",
       "      <td>102</td>\n",
       "      <td>0.0</td>\n",
       "      <td>0.000000</td>\n",
       "      <td>0.068627</td>\n",
       "      <td>0.215686</td>\n",
       "      <td>0.715686</td>\n",
       "      <td>NaN</td>\n",
       "      <td>73.0</td>\n",
       "      <td>22.0</td>\n",
       "      <td>7.0</td>\n",
       "      <td>NaN</td>\n",
       "      <td>175.00</td>\n",
       "    </tr>\n",
       "    <tr>\n",
       "      <th>1</th>\n",
       "      <td>TX Lubbock R124322</td>\n",
       "      <td>P10595</td>\n",
       "      <td>Lubbock</td>\n",
       "      <td>Lubbock</td>\n",
       "      <td>79414</td>\n",
       "      <td>102</td>\n",
       "      <td>0.0</td>\n",
       "      <td>0.000000</td>\n",
       "      <td>0.098039</td>\n",
       "      <td>0.666667</td>\n",
       "      <td>0.235294</td>\n",
       "      <td>NaN</td>\n",
       "      <td>24.0</td>\n",
       "      <td>68.0</td>\n",
       "      <td>10.0</td>\n",
       "      <td>NaN</td>\n",
       "      <td>37.04</td>\n",
       "    </tr>\n",
       "    <tr>\n",
       "      <th>2</th>\n",
       "      <td>TX Kaufman 7663</td>\n",
       "      <td>P10602</td>\n",
       "      <td>Terrell</td>\n",
       "      <td>Kaufman</td>\n",
       "      <td>751604831</td>\n",
       "      <td>107</td>\n",
       "      <td>0.0</td>\n",
       "      <td>0.009346</td>\n",
       "      <td>0.261682</td>\n",
       "      <td>0.373832</td>\n",
       "      <td>0.355140</td>\n",
       "      <td>NaN</td>\n",
       "      <td>38.0</td>\n",
       "      <td>40.0</td>\n",
       "      <td>28.0</td>\n",
       "      <td>1.0</td>\n",
       "      <td>51.84</td>\n",
       "    </tr>\n",
       "  </tbody>\n",
       "</table>\n",
       "</div>"
      ],
      "text/plain": [
       "                     SCAPN  PropID         City   County        Zip  \\\n",
       "0  TX Bexar 00273-002-0011  P10570  San Antonio    Bexar      78207   \n",
       "1       TX Lubbock R124322  P10595      Lubbock  Lubbock  79414       \n",
       "2          TX Kaufman 7663  P10602      Terrell  Kaufman  751604831   \n",
       "\n",
       "   Num_units  percent_studio  percent_4  percent_3  percent_2  percent_1  \\\n",
       "0        102             0.0   0.000000   0.068627   0.215686   0.715686   \n",
       "1        102             0.0   0.000000   0.098039   0.666667   0.235294   \n",
       "2        107             0.0   0.009346   0.261682   0.373832   0.355140   \n",
       "\n",
       "   Num_studio  Num_1_bed  Num_2_bed  Num_3_bed  Num_4_bed  Price_per_sqft  \n",
       "0         NaN       73.0       22.0        7.0        NaN          175.00  \n",
       "1         NaN       24.0       68.0       10.0        NaN           37.04  \n",
       "2         NaN       38.0       40.0       28.0        1.0           51.84  "
      ]
     },
     "execution_count": 230,
     "metadata": {},
     "output_type": "execute_result"
    }
   ],
   "source": [
    "texas.insert(6, 'percent_1', texas['Num_1_bed']/texas['Num_units'], True)\n",
    "texas.insert(6, 'percent_2', texas['Num_2_bed']/texas['Num_units'], True)\n",
    "texas.insert(6, 'percent_3', texas['Num_3_bed']/texas['Num_units'], True)\n",
    "texas.insert(6, 'percent_4', texas['Num_4_bed']/texas['Num_units'], True)\n",
    "texas.insert(6, 'percent_studio', texas['Num_studio']/texas['Num_units'], True)\n",
    "\n",
    "texas = texas[texas.Price_per_sqft > 0]\n",
    "texas = texas[texas.Price_per_sqft < 5000]\n",
    "\n",
    "texas['percent_4'].fillna(0, inplace=True)\n",
    "texas['percent_3'].fillna(0, inplace=True)\n",
    "texas['percent_2'].fillna(0, inplace=True)\n",
    "texas['percent_3'].fillna(0, inplace=True)\n",
    "texas['percent_studio'].fillna(0, inplace=True)\n",
    "texas = texas.reset_index(drop=True)\n",
    "\n",
    "texas.head(3)"
   ]
  },
  {
   "cell_type": "code",
   "execution_count": 231,
   "metadata": {},
   "outputs": [],
   "source": [
    "def iscategory_(unit_mix):  \n",
    "    if texas.percent_1[unit_mix] > 0.45:\n",
    "        return 'Mainly 1'\n",
    "    elif texas.percent_2[unit_mix] > 0.45:\n",
    "        return 'Mainly 2'\n",
    "    elif texas.percent_3[unit_mix] > 0.45:\n",
    "        return 'Mainly 3'\n",
    "    elif texas.percent_4[unit_mix] > 0.45:\n",
    "        return 'Mainly 4'\n",
    "    elif texas.percent_studio[unit_mix] > 0.45:\n",
    "        return 'Mainly Studio'\n",
    "    else:\n",
    "        return 'Mixed'"
   ]
  },
  {
   "cell_type": "code",
   "execution_count": 241,
   "metadata": {},
   "outputs": [],
   "source": [
    "texas['unit_mix'] = np.arange(len(texas))\n",
    "texas['unit_mix'] = texas['unit_mix'].apply(iscategory_)\n",
    "\n",
    "oneb = texas.Price_per_sqft[texas.unit_mix == 'Mainly 1']\n",
    "twob = texas.Price_per_sqft[texas.unit_mix == 'Mainly 2']\n",
    "threeb = texas.Price_per_sqft[texas.unit_mix == 'Mainly 3']\n",
    "fourb = texas.Price_per_sqft[texas.unit_mix == 'Mainly 4']\n",
    "studiob = texas.Price_per_sqft[texas.unit_mix == 'Mainly Studio']\n",
    "mixedb = texas.Price_per_sqft[texas.unit_mix == 'Mixed']"
   ]
  },
  {
   "cell_type": "code",
   "execution_count": 242,
   "metadata": {},
   "outputs": [
    {
     "data": {
      "image/png": "[encoded data removed]",
      "text/plain": [
       "<Figure size 432x288 with 1 Axes>"
      ]
     },
     "metadata": {
      "needs_background": "light"
     },
     "output_type": "display_data"
    }
   ],
   "source": [
    "plt.figure()\n",
    "\n",
    "box = plt.boxplot((oneb, twob, threeb, fourb, studiob, mixedb),\n",
    "           labels = (('Mainly One', 'Mainly Two', 'Mainly Three', 'Mainly Four', 'Mainly Studios', 'Mixed')), patch_artist = True)\n",
    "\n",
    "colors = ['lightcoral', 'navajowhite', 'cornflowerblue', 'lightgreen', 'pink', 'orchid', 'purple']\n",
    "for patch, color in zip(box['boxes'], colors):\n",
    "    patch.set_facecolor(color)\n",
    "    \n",
    "plt.show()"
   ]
  },
  {
   "cell_type": "code",
   "execution_count": 243,
   "metadata": {},
   "outputs": [
    {
     "data": {
      "text/plain": [
       "unit_mix\n",
       "Mainly 1          91.826087\n",
       "Mainly 2          76.506750\n",
       "Mainly 3          57.700000\n",
       "Mainly 4         120.330000\n",
       "Mainly Studio     72.875000\n",
       "Mixed            157.672848\n",
       "Name: Price_per_sqft, dtype: float64"
      ]
     },
     "execution_count": 243,
     "metadata": {},
     "output_type": "execute_result"
    }
   ],
   "source": [
    "texas.groupby('unit_mix')['Price_per_sqft'].mean()"
   ]
  },
  {
   "cell_type": "code",
   "execution_count": 244,
   "metadata": {},
   "outputs": [
    {
     "data": {
      "text/plain": [
       "unit_mix\n",
       "Mainly 1          54.487321\n",
       "Mainly 2          72.230212\n",
       "Mainly 3          39.211135\n",
       "Mainly 4          61.377918\n",
       "Mainly Studio     44.554798\n",
       "Mixed            474.343076\n",
       "Name: Price_per_sqft, dtype: float64"
      ]
     },
     "execution_count": 244,
     "metadata": {},
     "output_type": "execute_result"
    }
   ],
   "source": [
    "texas.groupby('unit_mix')['Price_per_sqft'].std()"
   ]
  },
  {
   "cell_type": "code",
   "execution_count": 262,
   "metadata": {},
   "outputs": [
    {
     "data": {
      "image/png": "[encoded data removed]",
      "text/plain": [
       "<Figure size 864x576 with 1 Axes>"
      ]
     },
     "metadata": {
      "needs_background": "light"
     },
     "output_type": "display_data"
    }
   ],
   "source": [
    "plt.figure(figsize = (12,8))\n",
    "\n",
    "box = plt.boxplot((oneb, twob, threeb, fourb, studiob, mixedb),\n",
    "           labels = (('Mainly One', 'Mainly Two', 'Mainly Three', 'Mainly Four', 'Mainly Studios', 'Mixed')), patch_artist = True)\n",
    "\n",
    "colors = ['lightcoral', 'navajowhite', 'cornflowerblue', 'lightgreen', 'pink', 'orchid', 'lavender']\n",
    "for patch, color in zip(box['boxes'], colors):\n",
    "    patch.set_facecolor(color)\n",
    "    \n",
    "plt.ylim((-10,500))\n",
    "plt.title('Price per Sqft of Different Unit Mixes in Texas')\n",
    "    \n",
    "plt.show()"
   ]
  },
  {
   "cell_type": "code",
   "execution_count": 254,
   "metadata": {},
   "outputs": [],
   "source": [
    "northcar = pd.read_csv('North_Carolina_all_data.csv')\n",
    "northcar = northcar[['SCAPN', 'PropID', 'City', 'County', 'Zip', 'Num_units', 'Num_studio', 'Num_1_bed', 'Num_2_bed','Num_3_bed', 'Num_4_bed', 'Price_per_sqft']]"
   ]
  },
  {
   "cell_type": "code",
   "execution_count": 255,
   "metadata": {},
   "outputs": [
    {
     "data": {
      "text/html": [
       "<div>\n",
       "<style scoped>\n",
       "    .dataframe tbody tr th:only-of-type {\n",
       "        vertical-align: middle;\n",
       "    }\n",
       "\n",
       "    .dataframe tbody tr th {\n",
       "        vertical-align: top;\n",
       "    }\n",
       "\n",
       "    .dataframe thead th {\n",
       "        text-align: right;\n",
       "    }\n",
       "</style>\n",
       "<table border=\"1\" class=\"dataframe\">\n",
       "  <thead>\n",
       "    <tr style=\"text-align: right;\">\n",
       "      <th></th>\n",
       "      <th>SCAPN</th>\n",
       "      <th>PropID</th>\n",
       "      <th>City</th>\n",
       "      <th>County</th>\n",
       "      <th>Zip</th>\n",
       "      <th>Num_units</th>\n",
       "      <th>percent_studio</th>\n",
       "      <th>percent_4</th>\n",
       "      <th>percent_3</th>\n",
       "      <th>percent_2</th>\n",
       "      <th>percent_1</th>\n",
       "      <th>Num_studio</th>\n",
       "      <th>Num_1_bed</th>\n",
       "      <th>Num_2_bed</th>\n",
       "      <th>Num_3_bed</th>\n",
       "      <th>Num_4_bed</th>\n",
       "      <th>Price_per_sqft</th>\n",
       "    </tr>\n",
       "  </thead>\n",
       "  <tbody>\n",
       "    <tr>\n",
       "      <th>0</th>\n",
       "      <td>NC Forsyth 6835-56-7348</td>\n",
       "      <td>P8145</td>\n",
       "      <td>Winston Salem</td>\n",
       "      <td>Forsyth</td>\n",
       "      <td>271014416</td>\n",
       "      <td>108</td>\n",
       "      <td>0.0</td>\n",
       "      <td>0.0</td>\n",
       "      <td>0.166667</td>\n",
       "      <td>0.462963</td>\n",
       "      <td>0.37037</td>\n",
       "      <td>NaN</td>\n",
       "      <td>40.0</td>\n",
       "      <td>50.0</td>\n",
       "      <td>18.0</td>\n",
       "      <td>NaN</td>\n",
       "      <td>44.18</td>\n",
       "    </tr>\n",
       "    <tr>\n",
       "      <th>1</th>\n",
       "      <td>NC Mecklenburg 078-062-01</td>\n",
       "      <td>P8149</td>\n",
       "      <td>Charlotte</td>\n",
       "      <td>Mecklenburg</td>\n",
       "      <td>28202</td>\n",
       "      <td>120</td>\n",
       "      <td>0.0</td>\n",
       "      <td>0.0</td>\n",
       "      <td>0.000000</td>\n",
       "      <td>0.600000</td>\n",
       "      <td>0.40000</td>\n",
       "      <td>NaN</td>\n",
       "      <td>48.0</td>\n",
       "      <td>72.0</td>\n",
       "      <td>NaN</td>\n",
       "      <td>NaN</td>\n",
       "      <td>182.58</td>\n",
       "    </tr>\n",
       "    <tr>\n",
       "      <th>2</th>\n",
       "      <td>NC Mecklenburg 078-062-01</td>\n",
       "      <td>P8149</td>\n",
       "      <td>Charlotte</td>\n",
       "      <td>Mecklenburg</td>\n",
       "      <td>28202</td>\n",
       "      <td>120</td>\n",
       "      <td>0.0</td>\n",
       "      <td>0.0</td>\n",
       "      <td>0.000000</td>\n",
       "      <td>0.600000</td>\n",
       "      <td>0.40000</td>\n",
       "      <td>NaN</td>\n",
       "      <td>48.0</td>\n",
       "      <td>72.0</td>\n",
       "      <td>NaN</td>\n",
       "      <td>NaN</td>\n",
       "      <td>142.45</td>\n",
       "    </tr>\n",
       "  </tbody>\n",
       "</table>\n",
       "</div>"
      ],
      "text/plain": [
       "                       SCAPN PropID           City       County        Zip  \\\n",
       "0    NC Forsyth 6835-56-7348  P8145  Winston Salem      Forsyth  271014416   \n",
       "1  NC Mecklenburg 078-062-01  P8149      Charlotte  Mecklenburg      28202   \n",
       "2  NC Mecklenburg 078-062-01  P8149      Charlotte  Mecklenburg      28202   \n",
       "\n",
       "   Num_units  percent_studio  percent_4  percent_3  percent_2  percent_1  \\\n",
       "0        108             0.0        0.0   0.166667   0.462963    0.37037   \n",
       "1        120             0.0        0.0   0.000000   0.600000    0.40000   \n",
       "2        120             0.0        0.0   0.000000   0.600000    0.40000   \n",
       "\n",
       "   Num_studio  Num_1_bed  Num_2_bed  Num_3_bed  Num_4_bed  Price_per_sqft  \n",
       "0         NaN       40.0       50.0       18.0        NaN           44.18  \n",
       "1         NaN       48.0       72.0        NaN        NaN          182.58  \n",
       "2         NaN       48.0       72.0        NaN        NaN          142.45  "
      ]
     },
     "execution_count": 255,
     "metadata": {},
     "output_type": "execute_result"
    }
   ],
   "source": [
    "northcar.insert(6, 'percent_1', northcar['Num_1_bed']/northcar['Num_units'], True)\n",
    "northcar.insert(6, 'percent_2', northcar['Num_2_bed']/northcar['Num_units'], True)\n",
    "northcar.insert(6, 'percent_3', northcar['Num_3_bed']/northcar['Num_units'], True)\n",
    "northcar.insert(6, 'percent_4', northcar['Num_4_bed']/northcar['Num_units'], True)\n",
    "northcar.insert(6, 'percent_studio', northcar['Num_studio']/northcar['Num_units'], True)\n",
    "\n",
    "northcar = northcar[northcar.Price_per_sqft > 0]\n",
    "northcar = northcar[northcar.Price_per_sqft < 5000]\n",
    "\n",
    "northcar['percent_4'].fillna(0, inplace=True)\n",
    "northcar['percent_3'].fillna(0, inplace=True)\n",
    "northcar['percent_2'].fillna(0, inplace=True)\n",
    "northcar['percent_3'].fillna(0, inplace=True)\n",
    "northcar['percent_studio'].fillna(0, inplace=True)\n",
    "northcar = northcar.reset_index(drop=True)\n",
    "\n",
    "northcar.head(3)"
   ]
  },
  {
   "cell_type": "code",
   "execution_count": 256,
   "metadata": {},
   "outputs": [],
   "source": [
    "def is__category(unit_mix):  \n",
    "    if northcar.percent_1[unit_mix] > 0.45:\n",
    "        return 'Mainly 1'\n",
    "    elif northcar.percent_2[unit_mix] > 0.45:\n",
    "        return 'Mainly 2'\n",
    "    elif northcar.percent_3[unit_mix] > 0.45:\n",
    "        return 'Mainly 3'\n",
    "    elif northcar.percent_4[unit_mix] > 0.45:\n",
    "        return 'Mainly 4'\n",
    "    elif northcar.percent_studio[unit_mix] > 0.45:\n",
    "        return 'Mainly Studio'\n",
    "    else:\n",
    "        return 'Mixed'"
   ]
  },
  {
   "cell_type": "code",
   "execution_count": 258,
   "metadata": {},
   "outputs": [],
   "source": [
    "northcar['unit_mix'] = np.arange(len(northcar))\n",
    "northcar['unit_mix'] = northcar['unit_mix'].apply(is__category)\n",
    "\n",
    "north_one = northcar.Price_per_sqft[northcar.unit_mix == 'Mainly 1']\n",
    "north_two = northcar.Price_per_sqft[northcar.unit_mix == 'Mainly 2']\n",
    "north_three = northcar.Price_per_sqft[northcar.unit_mix == 'Mainly 3']\n",
    "north_four = northcar.Price_per_sqft[northcar.unit_mix == 'Mainly 4']\n",
    "north_studio = northcar.Price_per_sqft[northcar.unit_mix == 'Mainly Studio']\n",
    "north_mixed = northcar.Price_per_sqft[northcar.unit_mix == 'Mixed']"
   ]
  },
  {
   "cell_type": "code",
   "execution_count": 261,
   "metadata": {},
   "outputs": [
    {
     "data": {
      "image/png": "[encoded data removed]",
      "text/plain": [
       "<Figure size 864x576 with 1 Axes>"
      ]
     },
     "metadata": {
      "needs_background": "light"
     },
     "output_type": "display_data"
    }
   ],
   "source": [
    "plt.figure(figsize = (12,8))\n",
    "\n",
    "box = plt.boxplot((north_one, north_two, north_three, north_four, north_studio, north_mixed),\n",
    "           labels = (('Mainly One', 'Mainly Two', 'Mainly Three', 'Mainly Four', 'Mainly Studios', 'Mixed')), patch_artist = True)\n",
    "\n",
    "colors = ['lightcoral', 'navajowhite', 'cornflowerblue', 'lightgreen', 'pink', 'orchid', 'lavender']\n",
    "for patch, color in zip(box['boxes'], colors):\n",
    "    patch.set_facecolor(color)\n",
    "    \n",
    "plt.ylim((-10,500))\n",
    "plt.title('Price per Sqft of Different Unit Mixes in North Carolina')\n",
    "\n",
    "    \n",
    "plt.show()"
   ]
  },
  {
   "cell_type": "code",
   "execution_count": 264,
   "metadata": {},
   "outputs": [
    {
     "data": {
      "text/plain": [
       "unit_mix\n",
       "Mainly 1         115.449262\n",
       "Mainly 2          76.543375\n",
       "Mainly 3          64.850000\n",
       "Mainly 4         121.685556\n",
       "Mainly Studio     77.981429\n",
       "Mixed            106.523934\n",
       "Name: Price_per_sqft, dtype: float64"
      ]
     },
     "execution_count": 264,
     "metadata": {},
     "output_type": "execute_result"
    }
   ],
   "source": [
    "northcar.groupby('unit_mix')['Price_per_sqft'].mean()"
   ]
  },
  {
   "cell_type": "code",
   "execution_count": 265,
   "metadata": {},
   "outputs": [
    {
     "data": {
      "text/plain": [
       "unit_mix\n",
       "Mainly 1          91.826087\n",
       "Mainly 2          76.506750\n",
       "Mainly 3          57.700000\n",
       "Mainly 4         120.330000\n",
       "Mainly Studio     72.875000\n",
       "Mixed            157.672848\n",
       "Name: Price_per_sqft, dtype: float64"
      ]
     },
     "execution_count": 265,
     "metadata": {},
     "output_type": "execute_result"
    }
   ],
   "source": [
    "texas.groupby('unit_mix')['Price_per_sqft'].mean()"
   ]
  },
  {
   "cell_type": "code",
   "execution_count": 266,
   "metadata": {},
   "outputs": [
    {
     "data": {
      "text/plain": [
       "unit_mix\n",
       "Mainly 1         110.402508\n",
       "Mainly 2          90.081222\n",
       "Mainly 3          58.325455\n",
       "Mainly 4         114.434468\n",
       "Mainly Studio    120.697692\n",
       "Mixed            345.040747\n",
       "Name: Price_per_sqft, dtype: float64"
      ]
     },
     "execution_count": 266,
     "metadata": {},
     "output_type": "execute_result"
    }
   ],
   "source": [
    "florida.groupby('unit_mix')['Price_per_sqft'].mean()"
   ]
  },
  {
   "cell_type": "code",
   "execution_count": 267,
   "metadata": {},
   "outputs": [
    {
     "data": {
      "text/plain": [
       "unit_mix\n",
       "Mainly 1          93.884656\n",
       "Mainly 2          62.781218\n",
       "Mainly 3         114.832500\n",
       "Mainly 4          82.325500\n",
       "Mainly Studio     20.910000\n",
       "Mixed             68.201675\n",
       "Name: Price_per_sqft, dtype: float64"
      ]
     },
     "execution_count": 267,
     "metadata": {},
     "output_type": "execute_result"
    }
   ],
   "source": [
    "georgia.groupby('unit_mix')['Price_per_sqft'].mean()"
   ]
  },
  {
   "cell_type": "code",
   "execution_count": null,
   "metadata": {},
   "outputs": [],
   "source": []
  }
 ],
 "metadata": {
  "kernelspec": {
   "display_name": "Python 3",
   "language": "python",
   "name": "python3"
  },
  "language_info": {
   "codemirror_mode": {
    "name": "ipython",
    "version": 3
   },
   "file_extension": ".py",
   "mimetype": "text/x-python",
   "name": "python",
   "nbconvert_exporter": "python",
   "pygments_lexer": "ipython3",
   "version": "3.7.4"
  }
 },
 "nbformat": 4,
 "nbformat_minor": 2
}
